{
 "cells": [
  {
   "cell_type": "markdown",
   "id": "92c44568",
   "metadata": {},
   "source": [
    "# Data Mining & Machine Learning - Classification Sneak Peek\n",
    "\n",
    "### Case: Classification of Legendary Pokémon with Supervised Learning\n",
    "\n",
    "83109 Samuel Didovic<br>\n",
    "86368 Isabel Lober<br>\n",
    "85915 Pascal Seitz<br>\n",
    "\n",
    "Lecturer: Prof. Dr. Adrian Moriariu"
   ]
  },
  {
   "cell_type": "markdown",
   "id": "1f2c2fb9",
   "metadata": {},
   "source": [
    "![alt text](test_classification.jpg \"Lugia\")"
   ]
  },
  {
   "cell_type": "markdown",
   "id": "bd2af7db",
   "metadata": {},
   "source": [
    "## Table of Contents\n",
    "1. [Step 1: Dataset Cleaning](#intro)\n",
    "2. [Step 2: Exploratory Data Analysis (EDA)](#second)\n",
    "3. [Step 3: Model Building: Classification](#third)"
   ]
  },
  {
   "cell_type": "markdown",
   "id": "5c98e449",
   "metadata": {},
   "source": [
    "### Disclaimer\n",
    "This is just a sneek peek of our classification project. It serves as a basic outline of the topic. The Jupyter Notebook for the examination date will be more comprehensive."
   ]
  },
  {
   "cell_type": "code",
   "execution_count": 1,
   "id": "0ab58159",
   "metadata": {},
   "outputs": [],
   "source": [
    "import warnings\n",
    "warnings.filterwarnings(\"ignore\")"
   ]
  },
  {
   "cell_type": "code",
   "execution_count": 2,
   "id": "93bbedf6",
   "metadata": {},
   "outputs": [],
   "source": [
    "import pandas as pd\n",
    "import numpy as np\n",
    "import seaborn as sns\n",
    "from matplotlib import pyplot as plt\n",
    "\n",
    "from sklearn.model_selection import train_test_split\n",
    "from sklearn.metrics import accuracy_score, classification_report, confusion_matrix, ConfusionMatrixDisplay, roc_curve, auc\n",
    "\n",
    "from sklearn.linear_model import LogisticRegression\n",
    "from sklearn.tree import DecisionTreeClassifier\n",
    "\n",
    "from sklearn.preprocessing import StandardScaler"
   ]
  },
  {
   "cell_type": "markdown",
   "id": "d7ee9a89",
   "metadata": {},
   "source": [
    "<br>"
   ]
  },
  {
   "cell_type": "markdown",
   "id": "76c21b21",
   "metadata": {},
   "source": [
    "### Step 1: Cleaning <a name = \"intro\"></a>"
   ]
  },
  {
   "cell_type": "markdown",
   "id": "a17fddb1",
   "metadata": {},
   "source": [
    "Cleaning activities follow a straight forward protocol. The aim is to fundamentally understand the data, identify inconsistencies and correct them in order to ensure a high-quality analysis."
   ]
  },
  {
   "cell_type": "code",
   "execution_count": 3,
   "id": "2d100b7a",
   "metadata": {},
   "outputs": [],
   "source": [
    "df = pd.read_csv(\"pokemon_sneak_peek.csv\")"
   ]
  },
  {
   "cell_type": "code",
   "execution_count": 4,
   "id": "86615b2c",
   "metadata": {},
   "outputs": [
    {
     "data": {
      "text/plain": [
       "(801, 22)"
      ]
     },
     "execution_count": 4,
     "metadata": {},
     "output_type": "execute_result"
    }
   ],
   "source": [
    "df.shape"
   ]
  },
  {
   "cell_type": "code",
   "execution_count": 5,
   "id": "97905eb4",
   "metadata": {},
   "outputs": [
    {
     "data": {
      "text/html": [
       "<div>\n",
       "<style scoped>\n",
       "    .dataframe tbody tr th:only-of-type {\n",
       "        vertical-align: middle;\n",
       "    }\n",
       "\n",
       "    .dataframe tbody tr th {\n",
       "        vertical-align: top;\n",
       "    }\n",
       "\n",
       "    .dataframe thead th {\n",
       "        text-align: right;\n",
       "    }\n",
       "</style>\n",
       "<table border=\"1\" class=\"dataframe\">\n",
       "  <thead>\n",
       "    <tr style=\"text-align: right;\">\n",
       "      <th></th>\n",
       "      <th>name</th>\n",
       "      <th>abilities</th>\n",
       "      <th>attack</th>\n",
       "      <th>base_egg_steps</th>\n",
       "      <th>base_happiness</th>\n",
       "      <th>base_total</th>\n",
       "      <th>capture_rate</th>\n",
       "      <th>classification</th>\n",
       "      <th>defense</th>\n",
       "      <th>experience_growth</th>\n",
       "      <th>...</th>\n",
       "      <th>percentage_male</th>\n",
       "      <th>sp_attack</th>\n",
       "      <th>sp_defense</th>\n",
       "      <th>speed</th>\n",
       "      <th>type1</th>\n",
       "      <th>type2</th>\n",
       "      <th>weight_kg</th>\n",
       "      <th>generation</th>\n",
       "      <th>is_legendary</th>\n",
       "      <th>genderless</th>\n",
       "    </tr>\n",
       "  </thead>\n",
       "  <tbody>\n",
       "    <tr>\n",
       "      <th>0</th>\n",
       "      <td>Bulbasaur</td>\n",
       "      <td>['Overgrow', 'Chlorophyll']</td>\n",
       "      <td>49</td>\n",
       "      <td>5120</td>\n",
       "      <td>70</td>\n",
       "      <td>318</td>\n",
       "      <td>45</td>\n",
       "      <td>Seed Pokémon</td>\n",
       "      <td>49</td>\n",
       "      <td>1059860</td>\n",
       "      <td>...</td>\n",
       "      <td>88.1</td>\n",
       "      <td>65</td>\n",
       "      <td>65</td>\n",
       "      <td>45</td>\n",
       "      <td>grass</td>\n",
       "      <td>poison</td>\n",
       "      <td>6.9</td>\n",
       "      <td>1</td>\n",
       "      <td>0</td>\n",
       "      <td>0</td>\n",
       "    </tr>\n",
       "    <tr>\n",
       "      <th>1</th>\n",
       "      <td>Ivysaur</td>\n",
       "      <td>['Overgrow', 'Chlorophyll']</td>\n",
       "      <td>62</td>\n",
       "      <td>5120</td>\n",
       "      <td>70</td>\n",
       "      <td>405</td>\n",
       "      <td>45</td>\n",
       "      <td>Seed Pokémon</td>\n",
       "      <td>63</td>\n",
       "      <td>1059860</td>\n",
       "      <td>...</td>\n",
       "      <td>88.1</td>\n",
       "      <td>80</td>\n",
       "      <td>80</td>\n",
       "      <td>60</td>\n",
       "      <td>grass</td>\n",
       "      <td>poison</td>\n",
       "      <td>13.0</td>\n",
       "      <td>1</td>\n",
       "      <td>0</td>\n",
       "      <td>0</td>\n",
       "    </tr>\n",
       "    <tr>\n",
       "      <th>2</th>\n",
       "      <td>Venusaur</td>\n",
       "      <td>['Overgrow', 'Chlorophyll']</td>\n",
       "      <td>100</td>\n",
       "      <td>5120</td>\n",
       "      <td>70</td>\n",
       "      <td>625</td>\n",
       "      <td>45</td>\n",
       "      <td>Seed Pokémon</td>\n",
       "      <td>123</td>\n",
       "      <td>1059860</td>\n",
       "      <td>...</td>\n",
       "      <td>88.1</td>\n",
       "      <td>122</td>\n",
       "      <td>120</td>\n",
       "      <td>80</td>\n",
       "      <td>grass</td>\n",
       "      <td>poison</td>\n",
       "      <td>100.0</td>\n",
       "      <td>1</td>\n",
       "      <td>0</td>\n",
       "      <td>0</td>\n",
       "    </tr>\n",
       "    <tr>\n",
       "      <th>3</th>\n",
       "      <td>Charmander</td>\n",
       "      <td>['Blaze', 'Solar Power']</td>\n",
       "      <td>52</td>\n",
       "      <td>5120</td>\n",
       "      <td>70</td>\n",
       "      <td>309</td>\n",
       "      <td>45</td>\n",
       "      <td>Lizard Pokémon</td>\n",
       "      <td>43</td>\n",
       "      <td>1059860</td>\n",
       "      <td>...</td>\n",
       "      <td>88.1</td>\n",
       "      <td>60</td>\n",
       "      <td>50</td>\n",
       "      <td>65</td>\n",
       "      <td>fire</td>\n",
       "      <td>NaN</td>\n",
       "      <td>8.5</td>\n",
       "      <td>1</td>\n",
       "      <td>0</td>\n",
       "      <td>0</td>\n",
       "    </tr>\n",
       "    <tr>\n",
       "      <th>4</th>\n",
       "      <td>Charmeleon</td>\n",
       "      <td>['Blaze', 'Solar Power']</td>\n",
       "      <td>64</td>\n",
       "      <td>5120</td>\n",
       "      <td>70</td>\n",
       "      <td>405</td>\n",
       "      <td>45</td>\n",
       "      <td>Flame Pokémon</td>\n",
       "      <td>58</td>\n",
       "      <td>1059860</td>\n",
       "      <td>...</td>\n",
       "      <td>88.1</td>\n",
       "      <td>80</td>\n",
       "      <td>65</td>\n",
       "      <td>80</td>\n",
       "      <td>fire</td>\n",
       "      <td>NaN</td>\n",
       "      <td>19.0</td>\n",
       "      <td>1</td>\n",
       "      <td>0</td>\n",
       "      <td>0</td>\n",
       "    </tr>\n",
       "  </tbody>\n",
       "</table>\n",
       "<p>5 rows × 22 columns</p>\n",
       "</div>"
      ],
      "text/plain": [
       "         name                    abilities  attack  base_egg_steps  \\\n",
       "0   Bulbasaur  ['Overgrow', 'Chlorophyll']      49            5120   \n",
       "1     Ivysaur  ['Overgrow', 'Chlorophyll']      62            5120   \n",
       "2    Venusaur  ['Overgrow', 'Chlorophyll']     100            5120   \n",
       "3  Charmander     ['Blaze', 'Solar Power']      52            5120   \n",
       "4  Charmeleon     ['Blaze', 'Solar Power']      64            5120   \n",
       "\n",
       "   base_happiness  base_total  capture_rate  classification  defense  \\\n",
       "0              70         318            45    Seed Pokémon       49   \n",
       "1              70         405            45    Seed Pokémon       63   \n",
       "2              70         625            45    Seed Pokémon      123   \n",
       "3              70         309            45  Lizard Pokémon       43   \n",
       "4              70         405            45   Flame Pokémon       58   \n",
       "\n",
       "   experience_growth  ...  percentage_male  sp_attack  sp_defense  speed  \\\n",
       "0            1059860  ...             88.1         65          65     45   \n",
       "1            1059860  ...             88.1         80          80     60   \n",
       "2            1059860  ...             88.1        122         120     80   \n",
       "3            1059860  ...             88.1         60          50     65   \n",
       "4            1059860  ...             88.1         80          65     80   \n",
       "\n",
       "   type1   type2 weight_kg generation  is_legendary  genderless  \n",
       "0  grass  poison       6.9          1             0           0  \n",
       "1  grass  poison      13.0          1             0           0  \n",
       "2  grass  poison     100.0          1             0           0  \n",
       "3   fire     NaN       8.5          1             0           0  \n",
       "4   fire     NaN      19.0          1             0           0  \n",
       "\n",
       "[5 rows x 22 columns]"
      ]
     },
     "execution_count": 5,
     "metadata": {},
     "output_type": "execute_result"
    }
   ],
   "source": [
    "df.head()"
   ]
  },
  {
   "cell_type": "markdown",
   "id": "00ab6ca4",
   "metadata": {},
   "source": [
    "<br>"
   ]
  },
  {
   "cell_type": "markdown",
   "id": "fae0b305",
   "metadata": {},
   "source": [
    "Transpose the dataset to provide an appropriate overview, since not every feature is displayed.<br>\n",
    "Additionally, display some random rows to get a proper understanding of the data."
   ]
  },
  {
   "cell_type": "code",
   "execution_count": 6,
   "id": "d2f55ee5",
   "metadata": {},
   "outputs": [
    {
     "data": {
      "text/html": [
       "<div>\n",
       "<style scoped>\n",
       "    .dataframe tbody tr th:only-of-type {\n",
       "        vertical-align: middle;\n",
       "    }\n",
       "\n",
       "    .dataframe tbody tr th {\n",
       "        vertical-align: top;\n",
       "    }\n",
       "\n",
       "    .dataframe thead th {\n",
       "        text-align: right;\n",
       "    }\n",
       "</style>\n",
       "<table border=\"1\" class=\"dataframe\">\n",
       "  <thead>\n",
       "    <tr style=\"text-align: right;\">\n",
       "      <th></th>\n",
       "      <th>642</th>\n",
       "      <th>768</th>\n",
       "      <th>219</th>\n",
       "      <th>641</th>\n",
       "      <th>146</th>\n",
       "    </tr>\n",
       "  </thead>\n",
       "  <tbody>\n",
       "    <tr>\n",
       "      <th>name</th>\n",
       "      <td>Reshiram</td>\n",
       "      <td>Sandygast</td>\n",
       "      <td>Swinub</td>\n",
       "      <td>Thundurus</td>\n",
       "      <td>Dratini</td>\n",
       "    </tr>\n",
       "    <tr>\n",
       "      <th>abilities</th>\n",
       "      <td>['Turboblaze']</td>\n",
       "      <td>['Water Compaction', 'Sand Veil']</td>\n",
       "      <td>['Oblivious', 'Snow Cloak', 'Thick Fat']</td>\n",
       "      <td>['Prankster', 'Defiant', 'Volt Absorb']</td>\n",
       "      <td>['Shed Skin', 'Marvel Scale']</td>\n",
       "    </tr>\n",
       "    <tr>\n",
       "      <th>attack</th>\n",
       "      <td>120</td>\n",
       "      <td>55</td>\n",
       "      <td>50</td>\n",
       "      <td>105</td>\n",
       "      <td>64</td>\n",
       "    </tr>\n",
       "    <tr>\n",
       "      <th>base_egg_steps</th>\n",
       "      <td>30720</td>\n",
       "      <td>3840</td>\n",
       "      <td>5120</td>\n",
       "      <td>30720</td>\n",
       "      <td>10240</td>\n",
       "    </tr>\n",
       "    <tr>\n",
       "      <th>base_happiness</th>\n",
       "      <td>0</td>\n",
       "      <td>70</td>\n",
       "      <td>70</td>\n",
       "      <td>90</td>\n",
       "      <td>35</td>\n",
       "    </tr>\n",
       "    <tr>\n",
       "      <th>base_total</th>\n",
       "      <td>680</td>\n",
       "      <td>320</td>\n",
       "      <td>250</td>\n",
       "      <td>580</td>\n",
       "      <td>300</td>\n",
       "    </tr>\n",
       "    <tr>\n",
       "      <th>capture_rate</th>\n",
       "      <td>3</td>\n",
       "      <td>140</td>\n",
       "      <td>225</td>\n",
       "      <td>3</td>\n",
       "      <td>45</td>\n",
       "    </tr>\n",
       "    <tr>\n",
       "      <th>classification</th>\n",
       "      <td>Vast White Pokémon</td>\n",
       "      <td>Sand Heap Pokémon</td>\n",
       "      <td>Pig Pokémon</td>\n",
       "      <td>Bolt Strike Pokémon</td>\n",
       "      <td>Dragon Pokémon</td>\n",
       "    </tr>\n",
       "    <tr>\n",
       "      <th>defense</th>\n",
       "      <td>100</td>\n",
       "      <td>80</td>\n",
       "      <td>40</td>\n",
       "      <td>70</td>\n",
       "      <td>45</td>\n",
       "    </tr>\n",
       "    <tr>\n",
       "      <th>experience_growth</th>\n",
       "      <td>1250000</td>\n",
       "      <td>1000000</td>\n",
       "      <td>1250000</td>\n",
       "      <td>1250000</td>\n",
       "      <td>1250000</td>\n",
       "    </tr>\n",
       "    <tr>\n",
       "      <th>height_m</th>\n",
       "      <td>3.2</td>\n",
       "      <td>0.5</td>\n",
       "      <td>0.4</td>\n",
       "      <td>1.5</td>\n",
       "      <td>1.8</td>\n",
       "    </tr>\n",
       "    <tr>\n",
       "      <th>hp</th>\n",
       "      <td>100</td>\n",
       "      <td>55</td>\n",
       "      <td>50</td>\n",
       "      <td>79</td>\n",
       "      <td>41</td>\n",
       "    </tr>\n",
       "    <tr>\n",
       "      <th>percentage_male</th>\n",
       "      <td>NaN</td>\n",
       "      <td>50.0</td>\n",
       "      <td>50.0</td>\n",
       "      <td>100.0</td>\n",
       "      <td>50.0</td>\n",
       "    </tr>\n",
       "    <tr>\n",
       "      <th>sp_attack</th>\n",
       "      <td>150</td>\n",
       "      <td>70</td>\n",
       "      <td>30</td>\n",
       "      <td>145</td>\n",
       "      <td>50</td>\n",
       "    </tr>\n",
       "    <tr>\n",
       "      <th>sp_defense</th>\n",
       "      <td>120</td>\n",
       "      <td>45</td>\n",
       "      <td>30</td>\n",
       "      <td>80</td>\n",
       "      <td>50</td>\n",
       "    </tr>\n",
       "    <tr>\n",
       "      <th>speed</th>\n",
       "      <td>90</td>\n",
       "      <td>15</td>\n",
       "      <td>50</td>\n",
       "      <td>101</td>\n",
       "      <td>50</td>\n",
       "    </tr>\n",
       "    <tr>\n",
       "      <th>type1</th>\n",
       "      <td>dragon</td>\n",
       "      <td>ghost</td>\n",
       "      <td>ice</td>\n",
       "      <td>electric</td>\n",
       "      <td>dragon</td>\n",
       "    </tr>\n",
       "    <tr>\n",
       "      <th>type2</th>\n",
       "      <td>fire</td>\n",
       "      <td>ground</td>\n",
       "      <td>ground</td>\n",
       "      <td>flying</td>\n",
       "      <td>NaN</td>\n",
       "    </tr>\n",
       "    <tr>\n",
       "      <th>weight_kg</th>\n",
       "      <td>330.0</td>\n",
       "      <td>70.0</td>\n",
       "      <td>6.5</td>\n",
       "      <td>61.0</td>\n",
       "      <td>3.3</td>\n",
       "    </tr>\n",
       "    <tr>\n",
       "      <th>generation</th>\n",
       "      <td>5</td>\n",
       "      <td>7</td>\n",
       "      <td>2</td>\n",
       "      <td>5</td>\n",
       "      <td>1</td>\n",
       "    </tr>\n",
       "    <tr>\n",
       "      <th>is_legendary</th>\n",
       "      <td>1</td>\n",
       "      <td>0</td>\n",
       "      <td>0</td>\n",
       "      <td>1</td>\n",
       "      <td>0</td>\n",
       "    </tr>\n",
       "    <tr>\n",
       "      <th>genderless</th>\n",
       "      <td>1</td>\n",
       "      <td>0</td>\n",
       "      <td>0</td>\n",
       "      <td>0</td>\n",
       "      <td>0</td>\n",
       "    </tr>\n",
       "  </tbody>\n",
       "</table>\n",
       "</div>"
      ],
      "text/plain": [
       "                                  642                                768  \\\n",
       "name                         Reshiram                          Sandygast   \n",
       "abilities              ['Turboblaze']  ['Water Compaction', 'Sand Veil']   \n",
       "attack                            120                                 55   \n",
       "base_egg_steps                  30720                               3840   \n",
       "base_happiness                      0                                 70   \n",
       "base_total                        680                                320   \n",
       "capture_rate                        3                                140   \n",
       "classification     Vast White Pokémon                  Sand Heap Pokémon   \n",
       "defense                           100                                 80   \n",
       "experience_growth             1250000                            1000000   \n",
       "height_m                          3.2                                0.5   \n",
       "hp                                100                                 55   \n",
       "percentage_male                   NaN                               50.0   \n",
       "sp_attack                         150                                 70   \n",
       "sp_defense                        120                                 45   \n",
       "speed                              90                                 15   \n",
       "type1                          dragon                              ghost   \n",
       "type2                            fire                             ground   \n",
       "weight_kg                       330.0                               70.0   \n",
       "generation                          5                                  7   \n",
       "is_legendary                        1                                  0   \n",
       "genderless                          1                                  0   \n",
       "\n",
       "                                                        219  \\\n",
       "name                                                 Swinub   \n",
       "abilities          ['Oblivious', 'Snow Cloak', 'Thick Fat']   \n",
       "attack                                                   50   \n",
       "base_egg_steps                                         5120   \n",
       "base_happiness                                           70   \n",
       "base_total                                              250   \n",
       "capture_rate                                            225   \n",
       "classification                                  Pig Pokémon   \n",
       "defense                                                  40   \n",
       "experience_growth                                   1250000   \n",
       "height_m                                                0.4   \n",
       "hp                                                       50   \n",
       "percentage_male                                        50.0   \n",
       "sp_attack                                                30   \n",
       "sp_defense                                               30   \n",
       "speed                                                    50   \n",
       "type1                                                   ice   \n",
       "type2                                                ground   \n",
       "weight_kg                                               6.5   \n",
       "generation                                                2   \n",
       "is_legendary                                              0   \n",
       "genderless                                                0   \n",
       "\n",
       "                                                       641  \\\n",
       "name                                             Thundurus   \n",
       "abilities          ['Prankster', 'Defiant', 'Volt Absorb']   \n",
       "attack                                                 105   \n",
       "base_egg_steps                                       30720   \n",
       "base_happiness                                          90   \n",
       "base_total                                             580   \n",
       "capture_rate                                             3   \n",
       "classification                         Bolt Strike Pokémon   \n",
       "defense                                                 70   \n",
       "experience_growth                                  1250000   \n",
       "height_m                                               1.5   \n",
       "hp                                                      79   \n",
       "percentage_male                                      100.0   \n",
       "sp_attack                                              145   \n",
       "sp_defense                                              80   \n",
       "speed                                                  101   \n",
       "type1                                             electric   \n",
       "type2                                               flying   \n",
       "weight_kg                                             61.0   \n",
       "generation                                               5   \n",
       "is_legendary                                             1   \n",
       "genderless                                               0   \n",
       "\n",
       "                                             146  \n",
       "name                                     Dratini  \n",
       "abilities          ['Shed Skin', 'Marvel Scale']  \n",
       "attack                                        64  \n",
       "base_egg_steps                             10240  \n",
       "base_happiness                                35  \n",
       "base_total                                   300  \n",
       "capture_rate                                  45  \n",
       "classification                    Dragon Pokémon  \n",
       "defense                                       45  \n",
       "experience_growth                        1250000  \n",
       "height_m                                     1.8  \n",
       "hp                                            41  \n",
       "percentage_male                             50.0  \n",
       "sp_attack                                     50  \n",
       "sp_defense                                    50  \n",
       "speed                                         50  \n",
       "type1                                     dragon  \n",
       "type2                                        NaN  \n",
       "weight_kg                                    3.3  \n",
       "generation                                     1  \n",
       "is_legendary                                   0  \n",
       "genderless                                     0  "
      ]
     },
     "execution_count": 6,
     "metadata": {},
     "output_type": "execute_result"
    }
   ],
   "source": [
    "df.sample(5).T"
   ]
  },
  {
   "cell_type": "markdown",
   "id": "9e4a9595",
   "metadata": {},
   "source": [
    "From this randomly chosen Pokémon, we now have gained some insights.<br>\n",
    "- We might see values of type String, Integer and Float.<br>\n",
    "- Further, there are some NaN values in `percentage_male` as well as in `type2`.<br>\n",
    "\n",
    "Therefore, it is worth looking over these features in an in-depth view."
   ]
  },
  {
   "cell_type": "code",
   "execution_count": 7,
   "id": "26d52627",
   "metadata": {},
   "outputs": [
    {
     "name": "stdout",
     "output_type": "stream",
     "text": [
      "<class 'pandas.core.frame.DataFrame'>\n",
      "RangeIndex: 801 entries, 0 to 800\n",
      "Data columns (total 22 columns):\n",
      " #   Column             Non-Null Count  Dtype  \n",
      "---  ------             --------------  -----  \n",
      " 0   name               801 non-null    object \n",
      " 1   abilities          801 non-null    object \n",
      " 2   attack             801 non-null    int64  \n",
      " 3   base_egg_steps     801 non-null    int64  \n",
      " 4   base_happiness     801 non-null    int64  \n",
      " 5   base_total         801 non-null    int64  \n",
      " 6   capture_rate       801 non-null    int64  \n",
      " 7   classification     801 non-null    object \n",
      " 8   defense            801 non-null    int64  \n",
      " 9   experience_growth  801 non-null    int64  \n",
      " 10  height_m           801 non-null    float64\n",
      " 11  hp                 801 non-null    int64  \n",
      " 12  percentage_male    703 non-null    float64\n",
      " 13  sp_attack          801 non-null    int64  \n",
      " 14  sp_defense         801 non-null    int64  \n",
      " 15  speed              801 non-null    int64  \n",
      " 16  type1              801 non-null    object \n",
      " 17  type2              417 non-null    object \n",
      " 18  weight_kg          801 non-null    float64\n",
      " 19  generation         801 non-null    int64  \n",
      " 20  is_legendary       801 non-null    int64  \n",
      " 21  genderless         801 non-null    int64  \n",
      "dtypes: float64(3), int64(14), object(5)\n",
      "memory usage: 137.8+ KB\n"
     ]
    }
   ],
   "source": [
    "df.info()"
   ]
  },
  {
   "cell_type": "markdown",
   "id": "88fa0181",
   "metadata": {},
   "source": [
    "This gives insights of the data type for each column.<br>\n",
    "In sum, there's a total number of \n",
    "- **3** columns containing **float types** \n",
    "- **14** columns containing **integer types**\n",
    "- **5** columns containing **object types**."
   ]
  },
  {
   "cell_type": "code",
   "execution_count": 8,
   "id": "402a1e40",
   "metadata": {},
   "outputs": [
    {
     "data": {
      "text/plain": [
       "name                   0\n",
       "abilities              0\n",
       "attack                 0\n",
       "base_egg_steps         0\n",
       "base_happiness         0\n",
       "base_total             0\n",
       "capture_rate           0\n",
       "classification         0\n",
       "defense                0\n",
       "experience_growth      0\n",
       "height_m               0\n",
       "hp                     0\n",
       "percentage_male       98\n",
       "sp_attack              0\n",
       "sp_defense             0\n",
       "speed                  0\n",
       "type1                  0\n",
       "type2                384\n",
       "weight_kg              0\n",
       "generation             0\n",
       "is_legendary           0\n",
       "genderless             0\n",
       "dtype: int64"
      ]
     },
     "execution_count": 8,
     "metadata": {},
     "output_type": "execute_result"
    }
   ],
   "source": [
    "df.isnull().sum()"
   ]
  },
  {
   "cell_type": "code",
   "execution_count": 9,
   "id": "4bc5db86",
   "metadata": {},
   "outputs": [
    {
     "data": {
      "text/html": [
       "<div>\n",
       "<style scoped>\n",
       "    .dataframe tbody tr th:only-of-type {\n",
       "        vertical-align: middle;\n",
       "    }\n",
       "\n",
       "    .dataframe tbody tr th {\n",
       "        vertical-align: top;\n",
       "    }\n",
       "\n",
       "    .dataframe thead th {\n",
       "        text-align: right;\n",
       "    }\n",
       "</style>\n",
       "<table border=\"1\" class=\"dataframe\">\n",
       "  <thead>\n",
       "    <tr style=\"text-align: right;\">\n",
       "      <th></th>\n",
       "      <th>3</th>\n",
       "      <th>4</th>\n",
       "      <th>6</th>\n",
       "      <th>7</th>\n",
       "      <th>8</th>\n",
       "    </tr>\n",
       "  </thead>\n",
       "  <tbody>\n",
       "    <tr>\n",
       "      <th>name</th>\n",
       "      <td>Charmander</td>\n",
       "      <td>Charmeleon</td>\n",
       "      <td>Squirtle</td>\n",
       "      <td>Wartortle</td>\n",
       "      <td>Blastoise</td>\n",
       "    </tr>\n",
       "    <tr>\n",
       "      <th>abilities</th>\n",
       "      <td>['Blaze', 'Solar Power']</td>\n",
       "      <td>['Blaze', 'Solar Power']</td>\n",
       "      <td>['Torrent', 'Rain Dish']</td>\n",
       "      <td>['Torrent', 'Rain Dish']</td>\n",
       "      <td>['Torrent', 'Rain Dish']</td>\n",
       "    </tr>\n",
       "    <tr>\n",
       "      <th>attack</th>\n",
       "      <td>52</td>\n",
       "      <td>64</td>\n",
       "      <td>48</td>\n",
       "      <td>63</td>\n",
       "      <td>103</td>\n",
       "    </tr>\n",
       "    <tr>\n",
       "      <th>base_egg_steps</th>\n",
       "      <td>5120</td>\n",
       "      <td>5120</td>\n",
       "      <td>5120</td>\n",
       "      <td>5120</td>\n",
       "      <td>5120</td>\n",
       "    </tr>\n",
       "    <tr>\n",
       "      <th>base_happiness</th>\n",
       "      <td>70</td>\n",
       "      <td>70</td>\n",
       "      <td>70</td>\n",
       "      <td>70</td>\n",
       "      <td>70</td>\n",
       "    </tr>\n",
       "    <tr>\n",
       "      <th>base_total</th>\n",
       "      <td>309</td>\n",
       "      <td>405</td>\n",
       "      <td>314</td>\n",
       "      <td>405</td>\n",
       "      <td>630</td>\n",
       "    </tr>\n",
       "    <tr>\n",
       "      <th>capture_rate</th>\n",
       "      <td>45</td>\n",
       "      <td>45</td>\n",
       "      <td>45</td>\n",
       "      <td>45</td>\n",
       "      <td>45</td>\n",
       "    </tr>\n",
       "    <tr>\n",
       "      <th>classification</th>\n",
       "      <td>Lizard Pokémon</td>\n",
       "      <td>Flame Pokémon</td>\n",
       "      <td>Tiny Turtle Pokémon</td>\n",
       "      <td>Turtle Pokémon</td>\n",
       "      <td>Shellfish Pokémon</td>\n",
       "    </tr>\n",
       "    <tr>\n",
       "      <th>defense</th>\n",
       "      <td>43</td>\n",
       "      <td>58</td>\n",
       "      <td>65</td>\n",
       "      <td>80</td>\n",
       "      <td>120</td>\n",
       "    </tr>\n",
       "    <tr>\n",
       "      <th>experience_growth</th>\n",
       "      <td>1059860</td>\n",
       "      <td>1059860</td>\n",
       "      <td>1059860</td>\n",
       "      <td>1059860</td>\n",
       "      <td>1059860</td>\n",
       "    </tr>\n",
       "    <tr>\n",
       "      <th>height_m</th>\n",
       "      <td>0.6</td>\n",
       "      <td>1.1</td>\n",
       "      <td>0.5</td>\n",
       "      <td>1.0</td>\n",
       "      <td>1.6</td>\n",
       "    </tr>\n",
       "    <tr>\n",
       "      <th>hp</th>\n",
       "      <td>39</td>\n",
       "      <td>58</td>\n",
       "      <td>44</td>\n",
       "      <td>59</td>\n",
       "      <td>79</td>\n",
       "    </tr>\n",
       "    <tr>\n",
       "      <th>percentage_male</th>\n",
       "      <td>88.1</td>\n",
       "      <td>88.1</td>\n",
       "      <td>88.1</td>\n",
       "      <td>88.1</td>\n",
       "      <td>88.1</td>\n",
       "    </tr>\n",
       "    <tr>\n",
       "      <th>sp_attack</th>\n",
       "      <td>60</td>\n",
       "      <td>80</td>\n",
       "      <td>50</td>\n",
       "      <td>65</td>\n",
       "      <td>135</td>\n",
       "    </tr>\n",
       "    <tr>\n",
       "      <th>sp_defense</th>\n",
       "      <td>50</td>\n",
       "      <td>65</td>\n",
       "      <td>64</td>\n",
       "      <td>80</td>\n",
       "      <td>115</td>\n",
       "    </tr>\n",
       "    <tr>\n",
       "      <th>speed</th>\n",
       "      <td>65</td>\n",
       "      <td>80</td>\n",
       "      <td>43</td>\n",
       "      <td>58</td>\n",
       "      <td>78</td>\n",
       "    </tr>\n",
       "    <tr>\n",
       "      <th>type1</th>\n",
       "      <td>fire</td>\n",
       "      <td>fire</td>\n",
       "      <td>water</td>\n",
       "      <td>water</td>\n",
       "      <td>water</td>\n",
       "    </tr>\n",
       "    <tr>\n",
       "      <th>type2</th>\n",
       "      <td>NaN</td>\n",
       "      <td>NaN</td>\n",
       "      <td>NaN</td>\n",
       "      <td>NaN</td>\n",
       "      <td>NaN</td>\n",
       "    </tr>\n",
       "    <tr>\n",
       "      <th>weight_kg</th>\n",
       "      <td>8.5</td>\n",
       "      <td>19.0</td>\n",
       "      <td>9.0</td>\n",
       "      <td>22.5</td>\n",
       "      <td>85.5</td>\n",
       "    </tr>\n",
       "    <tr>\n",
       "      <th>generation</th>\n",
       "      <td>1</td>\n",
       "      <td>1</td>\n",
       "      <td>1</td>\n",
       "      <td>1</td>\n",
       "      <td>1</td>\n",
       "    </tr>\n",
       "    <tr>\n",
       "      <th>is_legendary</th>\n",
       "      <td>0</td>\n",
       "      <td>0</td>\n",
       "      <td>0</td>\n",
       "      <td>0</td>\n",
       "      <td>0</td>\n",
       "    </tr>\n",
       "    <tr>\n",
       "      <th>genderless</th>\n",
       "      <td>0</td>\n",
       "      <td>0</td>\n",
       "      <td>0</td>\n",
       "      <td>0</td>\n",
       "      <td>0</td>\n",
       "    </tr>\n",
       "  </tbody>\n",
       "</table>\n",
       "</div>"
      ],
      "text/plain": [
       "                                          3                         4  \\\n",
       "name                             Charmander                Charmeleon   \n",
       "abilities          ['Blaze', 'Solar Power']  ['Blaze', 'Solar Power']   \n",
       "attack                                   52                        64   \n",
       "base_egg_steps                         5120                      5120   \n",
       "base_happiness                           70                        70   \n",
       "base_total                              309                       405   \n",
       "capture_rate                             45                        45   \n",
       "classification               Lizard Pokémon             Flame Pokémon   \n",
       "defense                                  43                        58   \n",
       "experience_growth                   1059860                   1059860   \n",
       "height_m                                0.6                       1.1   \n",
       "hp                                       39                        58   \n",
       "percentage_male                        88.1                      88.1   \n",
       "sp_attack                                60                        80   \n",
       "sp_defense                               50                        65   \n",
       "speed                                    65                        80   \n",
       "type1                                  fire                      fire   \n",
       "type2                                   NaN                       NaN   \n",
       "weight_kg                               8.5                      19.0   \n",
       "generation                                1                         1   \n",
       "is_legendary                              0                         0   \n",
       "genderless                                0                         0   \n",
       "\n",
       "                                          6                         7  \\\n",
       "name                               Squirtle                 Wartortle   \n",
       "abilities          ['Torrent', 'Rain Dish']  ['Torrent', 'Rain Dish']   \n",
       "attack                                   48                        63   \n",
       "base_egg_steps                         5120                      5120   \n",
       "base_happiness                           70                        70   \n",
       "base_total                              314                       405   \n",
       "capture_rate                             45                        45   \n",
       "classification          Tiny Turtle Pokémon            Turtle Pokémon   \n",
       "defense                                  65                        80   \n",
       "experience_growth                   1059860                   1059860   \n",
       "height_m                                0.5                       1.0   \n",
       "hp                                       44                        59   \n",
       "percentage_male                        88.1                      88.1   \n",
       "sp_attack                                50                        65   \n",
       "sp_defense                               64                        80   \n",
       "speed                                    43                        58   \n",
       "type1                                 water                     water   \n",
       "type2                                   NaN                       NaN   \n",
       "weight_kg                               9.0                      22.5   \n",
       "generation                                1                         1   \n",
       "is_legendary                              0                         0   \n",
       "genderless                                0                         0   \n",
       "\n",
       "                                          8  \n",
       "name                              Blastoise  \n",
       "abilities          ['Torrent', 'Rain Dish']  \n",
       "attack                                  103  \n",
       "base_egg_steps                         5120  \n",
       "base_happiness                           70  \n",
       "base_total                              630  \n",
       "capture_rate                             45  \n",
       "classification            Shellfish Pokémon  \n",
       "defense                                 120  \n",
       "experience_growth                   1059860  \n",
       "height_m                                1.6  \n",
       "hp                                       79  \n",
       "percentage_male                        88.1  \n",
       "sp_attack                               135  \n",
       "sp_defense                              115  \n",
       "speed                                    78  \n",
       "type1                                 water  \n",
       "type2                                   NaN  \n",
       "weight_kg                              85.5  \n",
       "generation                                1  \n",
       "is_legendary                              0  \n",
       "genderless                                0  "
      ]
     },
     "execution_count": 9,
     "metadata": {},
     "output_type": "execute_result"
    }
   ],
   "source": [
    "df[df[\"type2\"].isnull()].head().T"
   ]
  },
  {
   "cell_type": "markdown",
   "id": "dd650543",
   "metadata": {},
   "source": [
    "The difference between these two is, that the latter returns a series of boolean values whereas `type2` is true and false if not.<br>\n",
    "The previous one returns the df itself, which is useful to see the direct cause. Further, it only returns the slice of\n",
    "the df, where `type2` is null!<br>\n",
    "<br>\n",
    "This examination basically shows, that some Pokémom doesn't have a second type. This should kept in mind for later."
   ]
  },
  {
   "cell_type": "code",
   "execution_count": 10,
   "id": "f50b54df",
   "metadata": {},
   "outputs": [],
   "source": [
    "df[\"type2\"].fillna(\"None\", inplace = True)\n",
    "df[\"percentage_male\"].fillna(\"None\", inplace = True)"
   ]
  },
  {
   "cell_type": "markdown",
   "id": "ee3be49d",
   "metadata": {},
   "source": [
    "At this point, usually a confirmation of the changes takes place. Assume for time saving reasons, that the df is clean. "
   ]
  },
  {
   "cell_type": "markdown",
   "id": "d98062ff",
   "metadata": {},
   "source": [
    "### Step 2: Exploratory Data Analysis (EDA) <a name = \"second\"></a>"
   ]
  },
  {
   "cell_type": "markdown",
   "id": "01660110",
   "metadata": {},
   "source": [
    "An EDA is the step where one understand the data in detail."
   ]
  },
  {
   "cell_type": "code",
   "execution_count": 11,
   "id": "ee9b8864",
   "metadata": {},
   "outputs": [
    {
     "data": {
      "image/png": "[encoded data removed]",
      "text/plain": [
       "<Figure size 1200x600 with 1 Axes>"
      ]
     },
     "metadata": {},
     "output_type": "display_data"
    }
   ],
   "source": [
    "# Order the output of Pokémon introduced in each generation.\n",
    "\n",
    "plt.figure(figsize = (12, 6))\n",
    "\n",
    "ax = sns.countplot(x = \"generation\",\n",
    "                  data = df,\n",
    "                  order = df[\"generation\"].value_counts().index,\n",
    "                  color = \"skyblue\")\n",
    "\n",
    "ax.set_title(\"Pokémon per generation\")\n",
    "ax.set(xlabel = \"Generation\", ylabel = \"Count\")\n",
    "\n",
    "for p in ax.patches:\n",
    "    ax.annotate(\"{:.0f}\".format(p.get_height()),\n",
    "               (p.get_x() + 0.25,\n",
    "               p.get_height() + 0.05))\n",
    "sns.despine()"
   ]
  },
  {
   "cell_type": "code",
   "execution_count": 12,
   "id": "3d4abc72",
   "metadata": {},
   "outputs": [
    {
     "data": {
      "text/plain": [
       "70"
      ]
     },
     "execution_count": 12,
     "metadata": {},
     "output_type": "execute_result"
    }
   ],
   "source": [
    "# Legendary Pokémon.\n",
    "\n",
    "legendary_pkmn = df[\"is_legendary\"].sum()\n",
    "legendary_pkmn"
   ]
  },
  {
   "cell_type": "code",
   "execution_count": 13,
   "id": "eda4dc1c",
   "metadata": {},
   "outputs": [
    {
     "data": {
      "text/plain": [
       "731"
      ]
     },
     "execution_count": 13,
     "metadata": {},
     "output_type": "execute_result"
    }
   ],
   "source": [
    "# Non-legendary Pokémon.\n",
    "\n",
    "pkmn = df.count().iloc[0] # Count all Pokémon in dataset first.\n",
    "\n",
    "non_legendary_pkmn = pkmn - legendary_pkmn\n",
    "non_legendary_pkmn"
   ]
  },
  {
   "cell_type": "code",
   "execution_count": 14,
   "id": "5ec5b418",
   "metadata": {},
   "outputs": [
    {
     "data": {
      "text/plain": [
       "801"
      ]
     },
     "execution_count": 14,
     "metadata": {},
     "output_type": "execute_result"
    }
   ],
   "source": [
    "pkmn"
   ]
  },
  {
   "cell_type": "code",
   "execution_count": 15,
   "id": "d62f018a",
   "metadata": {},
   "outputs": [],
   "source": [
    "# Create df's consisting of legendary and non-legendary Pokémon.\n",
    "df_legendary = df[df[\"is_legendary\"] == 1]\n",
    "df_non_legendary = df[df[\"is_legendary\"] == 0]"
   ]
  },
  {
   "cell_type": "code",
   "execution_count": 16,
   "id": "f41c33e2",
   "metadata": {},
   "outputs": [
    {
     "name": "stdout",
     "output_type": "stream",
     "text": [
      "Average Capture Rate for legendary Pokémon: 17.99\n",
      "Average Capture Rate for non-legendary Pokémon: 106.4\n"
     ]
    }
   ],
   "source": [
    "# Average capture rate for legendary Pokémon.\n",
    "avg_cap_rate_legendary = round(df_legendary[\"capture_rate\"].mean(), 2)\n",
    "print(f\"Average Capture Rate for legendary Pokémon: {avg_cap_rate_legendary}\")\n",
    "\n",
    "# Average capture rate for non-legendary Pokémon.\n",
    "avg_cap_rate_non_legendary = round(df_non_legendary[\"capture_rate\"].mean(), 2)\n",
    "print(f\"Average Capture Rate for non-legendary Pokémon: {avg_cap_rate_non_legendary}\")"
   ]
  },
  {
   "cell_type": "code",
   "execution_count": 17,
   "id": "ba174f8a",
   "metadata": {},
   "outputs": [
    {
     "name": "stdout",
     "output_type": "stream",
     "text": [
      "Overall correlation: -0.3276772302416779\n"
     ]
    }
   ],
   "source": [
    "# Define an overall correlation of the capture rate.\n",
    "overall_capture_corr = df[\"capture_rate\"].corr(df[\"is_legendary\"])\n",
    "print(f\"Overall correlation: {overall_capture_corr}\")"
   ]
  },
  {
   "cell_type": "markdown",
   "id": "2f3aa1f4",
   "metadata": {},
   "source": [
    "The analysis shows legendary Pokémon are harder to catch than non-legendary ones.<br>\n",
    "It seems, that `capture_rate` may also be of use.<br>"
   ]
  },
  {
   "cell_type": "markdown",
   "id": "a66f09d8",
   "metadata": {},
   "source": [
    "Plot the findings."
   ]
  },
  {
   "cell_type": "code",
   "execution_count": 18,
   "id": "fbd68808",
   "metadata": {},
   "outputs": [
    {
     "data": {
      "image/png": "[encoded data removed]",
      "text/plain": [
       "<Figure size 1200x600 with 1 Axes>"
      ]
     },
     "metadata": {},
     "output_type": "display_data"
    }
   ],
   "source": [
    "sns.set(rc = {\"figure.figsize\": (12, 6)})\n",
    "\n",
    "sns.histplot(data = df_legendary,\n",
    "            x = \"capture_rate\",\n",
    "            kde = True,\n",
    "            label = \"legendary Pokémon\",\n",
    "            color = \"r\")\n",
    "\n",
    "sns.histplot(data = df_non_legendary,\n",
    "            x = \"capture_rate\",\n",
    "            kde = True,\n",
    "            label = \"non-legendary Pokémon\",\n",
    "            color = \"b\")\n",
    "\n",
    "plt.legend()\n",
    "plt.title(\"Distribution of Capture Rates between legendary and non-legendary Pokémon\")\n",
    "plt.xlabel(\"Capture Rate\")\n",
    "plt.ylabel(\"Count\")\n",
    "\n",
    "sns.despine()"
   ]
  },
  {
   "cell_type": "markdown",
   "id": "8b32c409",
   "metadata": {},
   "source": [
    "Usually, a lot more investigations on features would follow. Continue with prediction models."
   ]
  },
  {
   "cell_type": "markdown",
   "id": "10cfff04",
   "metadata": {},
   "source": [
    "### Step 3: Model Building: Classification <a name = \"third\"></a>"
   ]
  },
  {
   "cell_type": "markdown",
   "id": "7754794f",
   "metadata": {},
   "source": [
    "Define variables"
   ]
  },
  {
   "cell_type": "code",
   "execution_count": 19,
   "id": "a4fd1bcd",
   "metadata": {},
   "outputs": [],
   "source": [
    "X = df[[\"base_total\", \"capture_rate\", \"generation\"]].values # Features considered in our model\n",
    "y = df[\"is_legendary\"].values # Target variable\n",
    "\n",
    "X_train, X_test, y_train, y_test = train_test_split(X, y, test_size = 0.25, random_state = 42)\n",
    "\n",
    "# Fit scaler object to training data\n",
    "scaler = StandardScaler() \n",
    "scaler.fit(X_train)\n",
    "\n",
    "# Scale training and test data on the same scale / benchmark\n",
    "X_train_scaled = scaler.transform(X_train)\n",
    "X_test_scaled = scaler.transform(X_test)"
   ]
  },
  {
   "cell_type": "markdown",
   "id": "aca77ba3",
   "metadata": {},
   "source": [
    "Logistic Regression"
   ]
  },
  {
   "cell_type": "code",
   "execution_count": 20,
   "id": "dbeb4ec7",
   "metadata": {},
   "outputs": [
    {
     "name": "stdout",
     "output_type": "stream",
     "text": [
      "Logistic Regression Classification Report:\n",
      "              precision    recall  f1-score   support\n",
      "\n",
      "           0       0.99      0.97      0.98       183\n",
      "           1       0.74      0.94      0.83        18\n",
      "\n",
      "    accuracy                           0.97       201\n",
      "   macro avg       0.87      0.96      0.90       201\n",
      "weighted avg       0.97      0.97      0.97       201\n",
      "\n",
      "The accuracy score the model achieved is: 96.52 %\n"
     ]
    },
    {
     "data": {
      "image/png": "[encoded data removed]",
      "text/plain": [
       "<Figure size 1200x600 with 2 Axes>"
      ]
     },
     "metadata": {},
     "output_type": "display_data"
    }
   ],
   "source": [
    "# Initialize model and fit training data\n",
    "log = LogisticRegression()\n",
    "log.fit(X_train_scaled, y_train)\n",
    "\n",
    "# Variable for prediction (actual prediction happens here)\n",
    "y_pred_log = log.predict(X_test_scaled)\n",
    "\n",
    "score_log = round(accuracy_score(y_pred_log, y_test) * 100, 2)\n",
    "\n",
    "# Evaluate the model\n",
    "print(\"Logistic Regression Classification Report:\")\n",
    "print(classification_report(y_pred_log, y_test))\n",
    "print(\"The accuracy score the model achieved is: \" + str(score_log) + \" %\")\n",
    "\n",
    "# Visualization with confusion matrix\n",
    "cm_log = confusion_matrix(y_pred_log, y_test, labels = log.classes_)\n",
    "disp_log = ConfusionMatrixDisplay(confusion_matrix = cm_log, display_labels = log.classes_)\n",
    "disp_log.plot(cmap = plt.cm.Blues)\n",
    "plt.title(\"Logistic Regression Confusion Matrix\")\n",
    "plt.show()"
   ]
  },
  {
   "cell_type": "markdown",
   "id": "03b9e41c",
   "metadata": {},
   "source": [
    "Decision Trees"
   ]
  },
  {
   "cell_type": "code",
   "execution_count": 21,
   "id": "8f7e050a",
   "metadata": {},
   "outputs": [
    {
     "name": "stdout",
     "output_type": "stream",
     "text": [
      "Decision Tree Classification Report:\n",
      "              precision    recall  f1-score   support\n",
      "\n",
      "           0       1.00      0.97      0.99       183\n",
      "           1       0.78      1.00      0.88        18\n",
      "\n",
      "    accuracy                           0.98       201\n",
      "   macro avg       0.89      0.99      0.93       201\n",
      "weighted avg       0.98      0.98      0.98       201\n",
      "\n",
      "The accuracy score the model achieved is: 97.51%\n"
     ]
    },
    {
     "data": {
      "image/png": "[encoded data removed]",
      "text/plain": [
       "<Figure size 1200x600 with 2 Axes>"
      ]
     },
     "metadata": {},
     "output_type": "display_data"
    }
   ],
   "source": [
    "# Decision Tree model\n",
    "tree = DecisionTreeClassifier(max_depth = 3, random_state = 42)\n",
    "tree.fit(X_train, y_train)\n",
    "\n",
    "# Perform the prediction\n",
    "y_pred_tree = tree.predict(X_test)\n",
    "\n",
    "# Evaluate the model\n",
    "print(\"Decision Tree Classification Report:\")\n",
    "print(classification_report(y_pred_tree, y_test))\n",
    "print(f\"The accuracy score the model achieved is: \" + str(round(accuracy_score(y_pred_tree, y_test) * 100, 2)) + \"%\")\n",
    "\n",
    "# Visualization with confusion matrix\n",
    "cm_tree = confusion_matrix(y_pred_tree, y_test, labels = tree.classes_)\n",
    "disp_tree = ConfusionMatrixDisplay(confusion_matrix = cm_tree, display_labels = tree.classes_)\n",
    "disp_tree.plot(cmap = plt.cm.Blues)\n",
    "plt.title(\"Decision Tree Confusion Matrix\")\n",
    "plt.show()"
   ]
  },
  {
   "cell_type": "code",
   "execution_count": 22,
   "id": "554b6c70",
   "metadata": {},
   "outputs": [
    {
     "data": {
      "image/png": "[encoded data removed]",
      "text/plain": [
       "<Figure size 1000x800 with 1 Axes>"
      ]
     },
     "metadata": {},
     "output_type": "display_data"
    }
   ],
   "source": [
    "# Calculate predictions of the models\n",
    "y_prob_log = log.predict_proba(X_test_scaled)[:, 1]\n",
    "y_prob_tree = tree.predict_proba(X_test)[:, 1]\n",
    "\n",
    "# Calculate ROC curve and AUC value for each model\n",
    "fpr_log, tpr_log, _ = roc_curve(y_test, y_prob_log)\n",
    "roc_auc_log = auc(fpr_log, tpr_log)\n",
    "\n",
    "fpr_tree, tpr_tree, _ = roc_curve(y_test, y_prob_tree)\n",
    "roc_auc_tree = auc(fpr_tree, tpr_tree)\n",
    "\n",
    "# Plot der ROC-Kurven\n",
    "plt.figure(figsize=(10, 8))\n",
    "plt.plot(fpr_log, tpr_log, color='blue', lw=2, label='Logistic Regression (area = %0.2f)' % roc_auc_log)\n",
    "plt.plot(fpr_tree, tpr_tree, color='purple', lw=2, label='Decision Tree (area = %0.2f)' % roc_auc_tree)\n",
    "\n",
    "plt.plot([0, 1], [0, 1], color='navy', lw=2, linestyle='--')\n",
    "plt.xlim([0.0, 1.0])\n",
    "plt.ylim([0.0, 1.05])\n",
    "\n",
    "plt.xlabel('False Positive Rate')\n",
    "plt.ylabel('True Positive Rate')\n",
    "plt.title('ROC Kurven aller Modelle')\n",
    "plt.legend(loc=\"lower right\")\n",
    "plt.show()"
   ]
  },
  {
   "cell_type": "code",
   "execution_count": 23,
   "id": "26d74e90",
   "metadata": {},
   "outputs": [
    {
     "name": "stdout",
     "output_type": "stream",
     "text": [
      "Pokémon: Arceus | Predicted:[1] | Actual:[1]\n",
      "--------------------------------------------\n",
      "Pokémon: Pikachu | Predicted:[1] | Actual:[0]\n",
      "--------------------------------------------\n",
      "Pokémon: Latios | Predicted:[1] | Actual:[1]\n",
      "--------------------------------------------\n",
      "Pokémon: Zoroark | Predicted:[1] | Actual:[0]\n",
      "--------------------------------------------\n",
      "Pokémon: Metagross | Predicted:[1] | Actual:[0]\n",
      "--------------------------------------------\n"
     ]
    }
   ],
   "source": [
    "for i in ['Arceus','Pikachu','Latios','Zoroark', 'Metagross']:\n",
    "    example = df[df['name'] == i][[\"base_total\", \"capture_rate\", \"generation\"]]\n",
    "    print(\"Pokémon: {} | Predicted:{} | Actual:{}\".format(i, log.predict(example), df[df['name'] == i]['is_legendary'].values))\n",
    "    print('--------------------------------------------')"
   ]
  },
  {
   "cell_type": "code",
   "execution_count": 24,
   "id": "f279c35e",
   "metadata": {},
   "outputs": [
    {
     "name": "stdout",
     "output_type": "stream",
     "text": [
      "Pokémon: Arceus | Predicted:[1] | Actual:[1]\n",
      "--------------------------------------------\n",
      "Pokémon: Pikachu | Predicted:[0] | Actual:[0]\n",
      "--------------------------------------------\n",
      "Pokémon: Latios | Predicted:[1] | Actual:[1]\n",
      "--------------------------------------------\n",
      "Pokémon: Zoroark | Predicted:[0] | Actual:[0]\n",
      "--------------------------------------------\n",
      "Pokémon: Metagross | Predicted:[1] | Actual:[0]\n",
      "--------------------------------------------\n"
     ]
    }
   ],
   "source": [
    "for i in ['Arceus','Pikachu','Latios','Zoroark', 'Metagross']:\n",
    "    example = df[df['name'] == i][[\"base_total\", \"capture_rate\", \"generation\"]]\n",
    "    print(\"Pokémon: {} | Predicted:{} | Actual:{}\".format(i, tree.predict(example), df[df['name'] == i]['is_legendary'].values))\n",
    "    print('--------------------------------------------')"
   ]
  },
  {
   "cell_type": "markdown",
   "id": "6d812423",
   "metadata": {},
   "source": [
    "At this point, further investigation of the classification models would follow. However, let's save this section for the upcoming exam ;)"
   ]
  }
 ],
 "metadata": {
  "kernelspec": {
   "display_name": "Python 3 (ipykernel)",
   "language": "python",
   "name": "python3"
  },
  "language_info": {
   "codemirror_mode": {
    "name": "ipython",
    "version": 3
   },
   "file_extension": ".py",
   "mimetype": "text/x-python",
   "name": "python",
   "nbconvert_exporter": "python",
   "pygments_lexer": "ipython3",
   "version": "3.9.13"
  }
 },
 "nbformat": 4,
 "nbformat_minor": 5
}
