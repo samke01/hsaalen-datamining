{
 "cells": [
  {
   "cell_type": "code",
   "execution_count": null,
   "metadata": {},
   "outputs": [],
   "source": [
    "#DEMO - for goalkeepers\n",
    "#pd.reset_option(\"display.max_rows\")\n",
    "import os\n",
    "import pandas as pd\n",
    "import numpy as np\n",
    "import sklearn as SKLearn\n",
    "from sklearn.neural_network import MLPClassifier\n",
    "from sklearn.model_selection import train_test_split\n",
    "from sklearn.model_selection import cross_val_score\n",
    "#pip install import_ipynb\n",
    "import import_ipynb"
   ]
  },
  {
   "cell_type": "code",
   "execution_count": null,
   "metadata": {},
   "outputs": [],
   "source": [
    "os.chdir(' ') #set proper directory\n",
    "import Licencjat_Modelling_Goalkeepers as GK"
   ]
  },
  {
   "cell_type": "code",
   "execution_count": null,
   "metadata": {},
   "outputs": [],
   "source": [
    "#get data for goalkeepers\n",
    "data=GK.dataGK\n",
    "data"
   ]
  },
  {
   "cell_type": "code",
   "execution_count": null,
   "metadata": {},
   "outputs": [],
   "source": [
    "#mark players as over/undervalued\n",
    "data['Over/undervalued'] = np.where(data['value']-data['predsOLS']>0, 'Overvalued', 'Undervalued')\n",
    "data"
   ]
  },
  {
   "cell_type": "code",
   "execution_count": null,
   "metadata": {},
   "outputs": [],
   "source": [
    "#splitting data\n",
    "yGK = data['Over/undervalued']\n",
    "XGK = data[['age','psxg_gk','games_starts','passes_pct_launched_gk',\n",
    "            'pct_goal_kicks_launched','isPremierLeague','isLaLiga','isLigue1',\n",
    "            'clean_sheets','saves']]\n",
    "XGK_train, XGK_test, yGK_train, yGK_test = train_test_split(XGK,yGK,test_size=0.2)"
   ]
  },
  {
   "cell_type": "code",
   "execution_count": null,
   "metadata": {},
   "outputs": [],
   "source": [
    "#applying algorithm\n",
    "net          = MLPClassifier(hidden_layer_sizes=(100,),activation='logistic')\n",
    "netsolver    = 'lbfgs'\n",
    "net.max_iter = 1000\n",
    "net.fit(XGK_test,yGK_test)\n",
    "\n",
    "ytest_predict = net.predict(XGK)\n",
    "trueorfalse   = np.where(np.array(yGK)==ytest_predict,'T','F')\n",
    "outcome       = str(format(len(trueorfalse[trueorfalse=='T'])/len(trueorfalse)*100, '.2f'))\n",
    "\n",
    "print('There are ' + outcome + '%' + ' correct classificiations')"
   ]
  }
 ],
 "metadata": {
  "kernelspec": {
   "display_name": "Python 3",
   "language": "python",
   "name": "python3"
  },
  "language_info": {
   "codemirror_mode": {
    "name": "ipython",
    "version": 3
   },
   "file_extension": ".py",
   "mimetype": "text/x-python",
   "name": "python",
   "nbconvert_exporter": "python",
   "pygments_lexer": "ipython3",
   "version": "3.8.5"
  }
 },
 "nbformat": 4,
 "nbformat_minor": 4
}
