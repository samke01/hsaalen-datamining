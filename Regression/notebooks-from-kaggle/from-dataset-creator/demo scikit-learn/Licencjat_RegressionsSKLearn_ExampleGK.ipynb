{
 "cells": [
  {
   "cell_type": "code",
   "execution_count": null,
   "metadata": {},
   "outputs": [],
   "source": [
    "#DEMO\n",
    "import os\n",
    "import pandas as pd\n",
    "import numpy as np\n",
    "import sklearn as SKLearn\n",
    "from sklearn import linear_model\n",
    "from sklearn.linear_model import LinearRegression\n",
    "from sklearn.model_selection import train_test_split\n",
    "from sklearn.metrics import mean_squared_error\n",
    "from sklearn.base import BaseEstimator, RegressorMixin\n",
    "from sklearn.model_selection import cross_val_score\n",
    "%matplotlib inline"
   ]
  },
  {
   "cell_type": "code",
   "execution_count": null,
   "metadata": {},
   "outputs": [],
   "source": [
    "#for my liking\n",
    "l_reg = LinearRegression(fit_intercept=True)"
   ]
  },
  {
   "cell_type": "code",
   "execution_count": null,
   "metadata": {},
   "outputs": [],
   "source": [
    "os.chdir(' ') #set proper directory depending where you put that project\n",
    "#data - data for 2019/2020\n",
    "#data05 - data for 2017/2018\n",
    "#data1 - data for 2018/19\n",
    "#data15 - data for 2020/21\n",
    "data = pd.read_csv('danelic2019.csv',sep=';',engine='python')\n",
    "data05 =  pd.read_csv('danelic2017.csv',sep=';',engine='python')\n",
    "data1 = pd.read_csv('danelic2018.csv',sep=';',engine='python')\n",
    "#data15 = pd.read_csv('danelic2020.csv',sep=';',engine='python')\n",
    "data1=pd.DataFrame.append(data,data1)\n",
    "data1=pd.DataFrame.append(data1,data05,ignore_index=True)\n",
    "#data1=pd.DataFrame.append(data1,data15,ignore_index=True)\n",
    "data1.sort_values('player')"
   ]
  },
  {
   "cell_type": "code",
   "execution_count": null,
   "metadata": {},
   "outputs": [],
   "source": [
    "#adding dummy variables to dataset\n",
    "data1 = pd.get_dummies(data1, columns=['league'])\n",
    "data1 = data1.rename({\"league_Bundesliga\":\"isBundesliga\",\n",
    "                                \"league_La Liga\":\"isLaLiga\",\n",
    "                                \"league_Premier League\":\"isPremierLeague\",\n",
    "                                \"league_Ligue 1\":\"isLigue1\",\n",
    "                                \"league_Serie A\":\"isSerieA\"},axis='columns')\n",
    "data1=pd.get_dummies(data1,columns=['Season'])\n",
    "#deleting potential outliers that actually contribute nothing\n",
    "data1=data1[data1['value']>1000000]\n",
    "data1=data1[data1['games']>5]\n",
    "data1=data1[data1['age']>0]\n",
    "data1=data1[data1['height']>0]\n",
    "data1"
   ]
  },
  {
   "cell_type": "code",
   "execution_count": null,
   "metadata": {},
   "outputs": [],
   "source": [
    "#GOALKEEPERS\n",
    "dataGK = data1[data1['position2']=='Goalkeeper']\n",
    "dataGK"
   ]
  },
  {
   "cell_type": "code",
   "execution_count": null,
   "metadata": {},
   "outputs": [],
   "source": [
    "#GK\n",
    "yGK = dataGK['value']\n",
    "XGK = dataGK[['age','psxg_gk','games_starts','passes_pct_launched_gk','pct_goal_kicks_launched','isPremierLeague','isLaLiga','isLigue1','clean_sheets','saves']]\n",
    "XGK_train, XGK_test, yGK_train, yGK_test = train_test_split(XGK,yGK,test_size=0.2)\n",
    "modelGK=l_reg.fit(XGK_train,yGK_train)\n",
    "predictions=modelGK.predict(XGK_test)\n",
    "print(\"Predictions: \", predictions,\n",
    "     \"R^2 value :\", l_reg.score(XGK,yGK),\n",
    "      \"Intercept :\", l_reg.intercept_,\n",
    "     \"Coefficients :\", l_reg.coef_)"
   ]
  }
 ],
 "metadata": {
  "kernelspec": {
   "display_name": "Python 3",
   "language": "python",
   "name": "python3"
  },
  "language_info": {
   "codemirror_mode": {
    "name": "ipython",
    "version": 3
   },
   "file_extension": ".py",
   "mimetype": "text/x-python",
   "name": "python",
   "nbconvert_exporter": "python",
   "pygments_lexer": "ipython3",
   "version": "3.8.5"
  }
 },
 "nbformat": 4,
 "nbformat_minor": 4
}
