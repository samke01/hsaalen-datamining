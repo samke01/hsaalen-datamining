{
 "cells": [
  {
   "cell_type": "code",
   "execution_count": null,
   "metadata": {},
   "outputs": [],
   "source": [
    "import os\n",
    "import statistics\n",
    "import scipy as sp\n",
    "import math\n",
    "import pandas as pd\n",
    "#pd.get_option(\"display.max_rows\")\n",
    "#pd.reset_option(\"display.max_rows\")\n",
    "import numpy as np\n",
    "import matplotlib as mpl\n",
    "import matplotlib.pyplot as plt\n",
    "import matplotlib.ticker as tick\n",
    "import seaborn as sns\n",
    "import statsmodels.api as sm\n",
    "import statsmodels.formula.api as smf\n",
    "from statsmodels.stats.outliers_influence import variance_inflation_factor\n",
    "from statsmodels.tools.tools import add_constant\n",
    "from statsmodels.regression.linear_model import OLS\n",
    "from statsmodels.stats.outliers_influence import OLSInfluence\n",
    "from sklearn.model_selection import train_test_split\n",
    "from sklearn.model_selection import cross_val_score\n",
    "from sklearn.base import BaseEstimator, RegressorMixin\n",
    "%matplotlib inline"
   ]
  },
  {
   "cell_type": "code",
   "execution_count": null,
   "metadata": {},
   "outputs": [],
   "source": [
    "os.chdir(' ') #set proper directory depending where you put that project\n",
    "#data - data for 2019/2020\n",
    "#data05 - data for 2017/2018\n",
    "#data1 - data for 2018/19\n",
    "#data15 - data for 2020/21\n",
    "data    = pd.read_csv('danelic2019.csv',sep=';',engine='python')\n",
    "data05  = pd.read_csv('danelic2017.csv',sep=';',engine='python')\n",
    "data1   = pd.read_csv('danelic2018.csv',sep=';',engine='python')\n",
    "#data15  = pd.read_csv('danelic2020.csv',sep=';',engine='python')\n",
    "data1   = pd.DataFrame.append(data,data1)\n",
    "data1   = pd.DataFrame.append(data1,data05,ignore_index=True)\n",
    "#data1   = pd.DataFrame.append(data1,data15,ignore_index=True)\n",
    "data1.sort_values('player')"
   ]
  },
  {
   "cell_type": "code",
   "execution_count": null,
   "metadata": {
    "scrolled": false
   },
   "outputs": [],
   "source": [
    "#adding dummy variables to dataset\n",
    "data1 = pd.get_dummies(data1, columns=['league'])\n",
    "data1 = data1.rename({\"league_Bundesliga\":\"isBundesliga\",\n",
    "                                \"league_La Liga\":\"isLaLiga\",\n",
    "                                \"league_Premier League\":\"isPremierLeague\",\n",
    "                                \"league_Ligue 1\":\"isLigue1\",\n",
    "                                \"league_Serie A\":\"isSerieA\"},axis='columns')\n",
    "data1 = pd.get_dummies(data1,columns=['Season'])\n",
    "data1 = pd.get_dummies(data1,columns=['foot'])\n",
    "#deleting potential outliers that actually contribute nothing\n",
    "data1 = data1[data1['value']>1000000]\n",
    "data1 = data1[data1['games']>5]\n",
    "data1 = data1[data1['age']>0]\n",
    "data1 = data1[data1['height']>0]\n",
    "data1"
   ]
  },
  {
   "cell_type": "code",
   "execution_count": null,
   "metadata": {},
   "outputs": [],
   "source": [
    "#GOALKEEPERS\n",
    "dataGK = data1[data1['position2']=='Goalkeeper']\n",
    "dataGK=dataGK[dataGK['player']!='Emiliano Viviano'] #guy was causing some problems\n",
    "dataGK"
   ]
  },
  {
   "cell_type": "code",
   "execution_count": null,
   "metadata": {},
   "outputs": [],
   "source": [
    "#was originally used for correlations calculations (visible in appendix)\n",
    "\n",
    "#dataGK['age']=dataGK['age']*dataGK['age']\n",
    "#dataGK_cor = dataGK.corr()\n",
    "#show=pd.Series(dataGK_cor['value'])\n",
    "#pd.set_option('display.max_rows', None)\n",
    "#show.sort_values(ascending=False)"
   ]
  },
  {
   "cell_type": "code",
   "execution_count": null,
   "metadata": {},
   "outputs": [],
   "source": [
    "#for my liking\n",
    "def ln(x):\n",
    "    return np.log(x)\n",
    "\n",
    "#dataGK['test']=dataGK['W']/dataGK['MP']\n",
    "#Creating a linear regression\n",
    "trainGK, testGK = train_test_split(dataGK, train_size=0.8)\n",
    "modelGK=smf.ols('ln(value)~age+CL+wins_gk+draws_gk+passes_pct_launched_gk+psnpxg_per_shot_on_target_against+'\n",
    "                  '+isPremierLeague+isLigue1+clean_sheetsm',data=dataGK)\n",
    "modelGK1=smf.ols('value~wins_gk+clean_sheets+Pts+W+GDiff+clean_sheets_pct+CL+xGDiff+GF+xG+passes_ground+passes_completed_medium+passes_medium+games+games_starts+minutes_90s+minutes+games_gk+games_starts_gk+minutes_90s_gk+minutes_gk+passes_throws_gk+passes_other_body+passes_completed+passes_received+passes_live+pass_targets+carries+touches_live_ball+passes_pct_long+touches_def_pen_area+passes_completed_short+passes_gk+passes_pressure+passes_pct+def_actions_outside_pen_area_gk+passes_total_distance+psxg_net_gk+touches_def_3rd+passes_short+passes+touches+ball_recoveries+through_balls+dribble_tackles_pct+psxg_net_per90_gk+passes_pct_launched_gk+save_pct+passes_low+xa_net+passes_progressive_distance+WinCL+carry_distance+gca_passes_dead+errors+passes_switches+passes_completed_long+crosses_gk+passes_intercepted+crosses_stopped_gk+dribbles_completed_pct+passes_left_foot+carry_progressive_distance+isPremierLeague+MP+avg_distance_def_actions_gk+saves+draws_gk+assists+goal_kicks+gca+foot_left+isLaLiga+passes_right_foot+shots_on_target_against+passes_pct_short+aerials_won_pct+passes_dead+assists_per90+gca_per90+passes_completed_launched_gk+passes_long+sca_passes_dead+def_actions_outside_pen_area_per90_gk+passes_pct_medium+crosses_stopped_pct_gk+passes_oob+own_goals_against_gk+gca_passes_live+pens_conceded+shots_on_target_pct+throw_ins+psxg_gk+pens_missed_gk+goals_assists_pens_per90+passes_received_pct+height+pens_allowed+goals_assists_per90+passes_launched_gk+npxg_net+pens_att_gk+cards_red+sca+xg_net+sca_passes_live+passes_high+fouled+free_kick_goals_against_gk+cards_yellow+corner_kicks_in+xa+passes_offsides+pens_saved+dribbles_completed+dribble_tackles+assisted_shots+players_dribbled_past+npxg_per_shot+xa_per90+passes_into_penalty_area+pressure_regain_pct+tackles_def_3rd+passes_free_kicks+miscontrols+dribbles+dribbles_vs+passes_head+isSerieA+clearances+corner_kick_goals_against_gk+dribbled_past+corner_kicks+shots_on_target_per90+tackles+goals_against_gk+pressures_def_3rd+tackles_won+dispossessed+tackles_mid_3rd+fouls+shots_total_per90+progressive_passes+offsides+npxg_xa_per90+xg_xa_per90+goals_pens_per90+passes_blocked+touches_mid_3rd+aerials_won+shots_on_target+sca_dribbles+gca_shots+pens_att+pens_made+pens_won+nutmegs+goals_per90+crosses+pressures+blocked_shots+pressure_regains+interceptions+goals_per_shot+shots_total+pressures_mid_3rd+shots_free_kicks+touches_att_pen_area+goals+sca_fouled+pressures_att_3rd+aerials_lost+touches_att_3rd+tackles_att_3rd+xg+goals_per_shot_on_target+own_goals+npxg+sca_shots+npxg_per90+xg_per90+blocks+blocked_passes+sca_per90+crosses_into_penalty_area+passes_into_final_third+D+psnpxg_per_shot_on_target_against+goal_kick_length_avg+foot_right+isBundesliga+isLigue1+passes_length_avg_gk+pct_goal_kicks_launched+losses_gk+pct_passes_launched_gk+age+goals_against_per90_gk+xGA+GA+L+LgRk+gca_dribbles+gca_fouled+gca_og_for+corner_kicks_out+corner_kicks_straight+foot_both+cards_yellow_red+blocked_shots_saves',data=dataGK)    \n",
    "\n",
    "resultsGK=modelGK.fit()\n",
    "resultsGK1=modelGK1.fit()\n",
    "resultsGK_params=resultsGK.params\n",
    "resultsGK1_params=resultsGK1.params\n",
    "#Creating a robust regression\n",
    "modelGKrobust=sm.RLM(modelGK.endog,modelGK.exog,data=dataGK).fit()\n",
    "#r2_wls = sm.WLS(modelGK.endog, modelGK.exog, weights=modelGKrobust.weights).fit().rsquared\n",
    "#modelGKrobustridge = sm.WLS(modelGK.endog, modelGK.exog, weights=modelGKrobust.weights).fit_regularized(alpha=0.2, L1_wt=0,start_params=resultsGK_params)\n",
    "#print(modelGKrobust.summary(),\n",
    "      #\"R^2:\", r2_wls)\n",
    "\n",
    "finalGK1 = sm.regression.linear_model.OLSResults(modelGK, \n",
    "                                              modelGKrobust.params, \n",
    "                                              modelGK.normalized_cov_params)\n",
    "finalGK1.summary()\n",
    "#print(finalGK1.summary())\n",
    "#print('do not bother about it printing summary like for OLS - this is a robust regression as you can see from the code')"
   ]
  },
  {
   "cell_type": "code",
   "execution_count": null,
   "metadata": {},
   "outputs": [],
   "source": [
    "#VIF \n",
    "vif = pd.DataFrame()\n",
    "vif[\"features\"] = modelGK.exog_names\n",
    "vif[\"VIF Factor\"] = [variance_inflation_factor(finalGK1.model.exog, i) for i in range(finalGK1.model.exog.shape[1])]\n",
    "vif"
   ]
  },
  {
   "cell_type": "code",
   "execution_count": null,
   "metadata": {},
   "outputs": [],
   "source": [
    "#testing\n",
    "#Breusch-Pagan\n",
    "bptestGK=sm.stats.diagnostic.het_breuschpagan(finalGK1.resid, finalGK1.model.exog)\n",
    "bptestGK"
   ]
  },
  {
   "cell_type": "code",
   "execution_count": null,
   "metadata": {},
   "outputs": [],
   "source": [
    "#Chowtest\n",
    "trainGK1=dataGK[dataGK['Season_201819#']==0]\n",
    "trainGK2=dataGK[dataGK['Season_201819#']==1]\n",
    "JGK = len(resultsGK.params)-1 #number of coefficients\n",
    "N1GK = trainGK1.shape[0]\n",
    "N2GK = trainGK2.shape[0]\n",
    "RSSdGK=resultsGK.ssr\n",
    "resultsGKridge1=smf.ols('ln(value)~age+CL+wins_gk+draws_gk+passes_pct_launched_gk+psnpxg_per_shot_on_target_against+'\n",
    "                  '+isPremierLeague+isLigue1+clean_sheetsm',data=trainGK1).fit()\n",
    "RSSbGK=resultsGKridge1.ssr\n",
    "kGK = len(resultsGKridge1.params)-1\n",
    "resultsGKridge2=smf.ols('ln(value)~age+CL+wins_gk+draws_gk+passes_pct_launched_gk+psnpxg_per_shot_on_target_against+'\n",
    "                  '+isPremierLeague+isLigue1+clean_sheetsm',data=trainGK2).fit()\n",
    "RSSnbGK = resultsGKridge2.ssr\n",
    "ChowGK=((RSSdGK-(RSSbGK+RSSnbGK))/JGK)/((RSSbGK+RSSnbGK)/(N1GK+N2GK-2*kGK))\n",
    "pGK=sp.stats.f.cdf(ChowGK, JGK, N1GK+N2GK-2*kGK)\n",
    "print(ChowGK,pGK,JGK)"
   ]
  },
  {
   "cell_type": "code",
   "execution_count": null,
   "metadata": {},
   "outputs": [],
   "source": [
    "predictionsGK=finalGK1.predict(dataGK)\n",
    "dataGK['predsOLS']=np.exp(predictionsGK)"
   ]
  },
  {
   "cell_type": "code",
   "execution_count": null,
   "metadata": {},
   "outputs": [],
   "source": [
    "#cross validation\n",
    "class SMWrapper(BaseEstimator, RegressorMixin):\n",
    "    \"\"\" A universal sklearn-style wrapper for statsmodels regressors \"\"\"\n",
    "    def __init__(self, model_class, fit_intercept=True):\n",
    "        self.model_class = model_class\n",
    "        self.fit_intercept = fit_intercept\n",
    "    def fit(self, X, y):\n",
    "        if self.fit_intercept:\n",
    "            X = sm.add_constant(X)\n",
    "        self.model_ = self.model_class(y, X)\n",
    "        self.results_ = self.model_.fit()\n",
    "        #self.results_ = self.model_.fit_regularized(L1_wt=1, alpha=0.1,start_params=resultsGK_params)\n",
    "    def predict(self, X):\n",
    "        if self.fit_intercept:\n",
    "            X = sm.add_constant(X)\n",
    "        return self.results_.predict(X)\n",
    "    \n",
    "linearcval=cross_val_score(SMWrapper(sm.RLM), modelGK.exog, modelGK.endog, scoring='neg_root_mean_squared_error')\n",
    "pd.DataFrame(pd.Series(np.transpose(linearcval)))\n",
    "#robustcval=cross_val_score(SMWrapper(sm.RLM), modelGK.exog, modelGK.endog, scoring='neg_mean_absolute_error')\n",
    "#pd.DataFrame(pd.concat([pd.Series(np.transpose(linearcval)),pd.Series(np.transpose(robustcval))],axis=1))"
   ]
  },
  {
   "cell_type": "code",
   "execution_count": null,
   "metadata": {},
   "outputs": [],
   "source": [
    "data=dataGK[dataGK['Season_201920#']==1]\n",
    "#data1=data.sort_values('clean_sheetsm',ascending=False)[0:10]['value']\n",
    "#data2=data.sort_values('psnpxg_per_shot_on_target_against',ascending=True)[0:10]['value']\n",
    "#data3=data.sort_values('passes_pct_launched_gk',ascending=False)[0:10]['value']\n",
    "data=data[['player','value','clean_sheetsm','psnpxg_per_shot_on_target_against','passes_pct_launched_gk']]\n",
    "data1=data.sort_values('value',ascending=False)[0:10]\n",
    "pd.DataFrame(data.mean()).transpose()"
   ]
  },
  {
   "cell_type": "code",
   "execution_count": null,
   "metadata": {},
   "outputs": [],
   "source": [
    "def millions(x, pos):\n",
    "    'The two args are the value and tick position'\n",
    "    return '%1.1fM' % (x * 1e-6)\n",
    "formatter = mpl.ticker.FuncFormatter(millions)\n",
    "\n",
    "dataGK=dataGK[dataGK['clean_sheetsm']>0]\n",
    "dataGK=dataGK[dataGK['passes_pct_launched_gk']>0]\n",
    "dataGK=dataGK[dataGK['psnpxg_per_shot_on_target_against']>0]\n",
    "corrcoef1=np.corrcoef(dataGK['value'],dataGK['clean_sheetsm'])\n",
    "corrcoef2=np.corrcoef(dataGK['value'],dataGK['passes_pct_launched_gk'])\n",
    "corrcoef3=np.corrcoef(dataGK['value'],dataGK['psnpxg_per_shot_on_target_against'])\n",
    "corrcoef1=corrcoef1[0,1]\n",
    "corrcoef2=corrcoef2[0,1]\n",
    "corrcoef3=corrcoef3[0,1]\n",
    "\n",
    "fig, ax = plt.subplots(3, 1, figsize=(12, 12))\n",
    "sns.regplot(ax=ax[0],x=dataGK['clean_sheetsm'],y=dataGK['value'],data=dataGK,color='g')\n",
    "sns.regplot(ax=ax[1],x=dataGK['passes_pct_launched_gk'],y=dataGK['value'],data=dataGK,color='blue')\n",
    "sns.regplot(ax=ax[2],x=dataGK['psnpxg_per_shot_on_target_against'],y=dataGK['value'],data=dataGK,color='orange')\n",
    "\n",
    "ax[0].yaxis.set_major_formatter(formatter)\n",
    "ax[0].annotate(\"r=\",xy=(0.8,0.85), xycoords=\"axes fraction\")\n",
    "ax[0].annotate(\"{:.2f}\".format(corrcoef1),xy=(0.825,0.85), xycoords=\"axes fraction\")\n",
    "\n",
    "ax[1].yaxis.set_major_formatter(formatter)\n",
    "ax[1].annotate(\"r=\",xy=(0.8,0.85), xycoords=\"axes fraction\")\n",
    "ax[1].annotate(\"{:.2f}\".format(corrcoef2),xy=(0.825,0.85), xycoords=\"axes fraction\")\n",
    "\n",
    "ax[2].yaxis.set_major_formatter(formatter)\n",
    "ax[2].annotate(\"r=\",xy=(0.8,0.85), xycoords=\"axes fraction\")\n",
    "ax[2].annotate(\"{:.2f}\".format(corrcoef3),xy=(0.825,0.85), xycoords=\"axes fraction\")"
   ]
  }
 ],
 "metadata": {
  "kernelspec": {
   "display_name": "Python 3.10.8 64-bit (microsoft store)",
   "language": "python",
   "name": "python3"
  },
  "language_info": {
   "codemirror_mode": {
    "name": "ipython",
    "version": 3
   },
   "file_extension": ".py",
   "mimetype": "text/x-python",
   "name": "python",
   "nbconvert_exporter": "python",
   "pygments_lexer": "ipython3",
   "version": "3.10.8"
  },
  "vscode": {
   "interpreter": {
    "hash": "e6cc3b482fcfc29e5d5fe52e8a680385fd81641b1d14769fa60a5f9e6f1c31fa"
   }
  }
 },
 "nbformat": 4,
 "nbformat_minor": 4
}
