{
 "cells": [
  {
   "cell_type": "code",
   "execution_count": null,
   "metadata": {},
   "outputs": [],
   "source": [
    "import os\n",
    "import statistics\n",
    "import math\n",
    "import pandas as pd\n",
    "import numpy as np\n",
    "import matplotlib as mpl\n",
    "import matplotlib.pyplot as plt\n",
    "import matplotlib.ticker as tick\n",
    "%matplotlib inline"
   ]
  },
  {
   "cell_type": "code",
   "execution_count": null,
   "metadata": {},
   "outputs": [],
   "source": [
    "#this little function will help me making my code a little tidier.\n",
    "def avg(x):\n",
    "    a=statistics.mean(x)\n",
    "    return a"
   ]
  },
  {
   "cell_type": "code",
   "execution_count": null,
   "metadata": {},
   "outputs": [],
   "source": [
    "os.chdir('') #place a path here\n",
    "data=pd.read_csv('players_21.csv',sep=',',engine='python')\n",
    "data"
   ]
  },
  {
   "cell_type": "code",
   "execution_count": null,
   "metadata": {},
   "outputs": [],
   "source": [
    "age=pd.Series(['24-26','27-29', '30-32', '33-35'])\n",
    "\n",
    "#getting proper age intervals\n",
    "data1822    = data[data['age']>=24]\n",
    "data1822    = data1822[data1822['age']<=26]\n",
    "data2226    = data[data['age']>=27]\n",
    "data2226    = data2226[data2226['age']<=29]\n",
    "data2630    = data[data['age']>=30]\n",
    "data2630    = data2630[data2630['age']<=32]\n",
    "data3034    = data[data['age']>=33]\n",
    "data3034    = data3034[data3034['age']<=35]\n",
    "\n",
    "#preparing data for skills\n",
    "overall                 = pd.Series(np.transpose(np.r_[avg(data1822['overall']),\n",
    "                                                       avg(data2226['overall']),\n",
    "                                                       avg(data2630['overall']), \n",
    "                                                       avg(data3034['overall'])]))\n",
    "movement_sprint_speed   = pd.Series(np.transpose(np.r_[avg(data1822['movement_sprint_speed']),\n",
    "                                                       avg(data2226['movement_sprint_speed']),\n",
    "                                                       avg(data2630['movement_sprint_speed']), \n",
    "                                                       avg(data3034['movement_sprint_speed'])]))\n",
    "movement_agility        = pd.Series(np.transpose(np.r_[avg(data1822['movement_agility']),\n",
    "                                                       avg(data2226['movement_agility']),\n",
    "                                                       avg(data2630['movement_agility']), \n",
    "                                                       avg(data3034['movement_agility'])]))\n",
    "power_stamina           = pd.Series(np.transpose(np.r_[avg(data1822['power_stamina']),\n",
    "                                                       avg(data2226['power_stamina']),\n",
    "                                                       avg(data2630['power_stamina']), \n",
    "                                                       avg(data3034['power_stamina'])]))\n",
    "skill_dribbling         = pd.Series(np.transpose(np.r_[avg(data1822['skill_dribbling']),\n",
    "                                                       avg(data2226['skill_dribbling']),\n",
    "                                                       avg(data2630['skill_dribbling']), \n",
    "                                                       avg(data3034['skill_dribbling'])]))\n",
    "\n",
    "outcome         = pd.concat([overall,movement_sprint_speed,movement_agility,\n",
    "                   power_stamina,skill_dribbling],axis=1).astype(int)\n",
    "outcome         = pd.concat([age,outcome],axis=1)\n",
    "outcome.columns = ['Age','Overall rating', 'Sprint speed',\n",
    "                    'Agility','Stamina','Dribbling']\n",
    "outcome"
   ]
  },
  {
   "cell_type": "code",
   "execution_count": null,
   "metadata": {},
   "outputs": [],
   "source": [
    "#by age\n",
    "data1 = data[data['age']<38]\n",
    "data1 = data1.groupby('age').mean()\n",
    "data1"
   ]
  },
  {
   "cell_type": "code",
   "execution_count": null,
   "metadata": {},
   "outputs": [],
   "source": [
    "#visualizations\n",
    "fig, ax = plt.subplots(1, 2, figsize=(16, 2))\n",
    "\n",
    "ax[0].axis('off')\n",
    "ax[0].axis('tight')\n",
    "ax[0].table(cellText=outcome.values, colLabels=outcome.columns, loc='center')\n",
    "\n",
    "ax[1].plot(data1['movement_sprint_speed'], label='Sprint speed')\n",
    "ax[1].plot(data1['movement_agility'],label='Agility')\n",
    "ax[1].plot(data1['power_stamina'],label='Stamina')\n",
    "ax[1].plot(data1['skill_dribbling'],label='Dribbling')\n",
    "ax[1].set_xlabel('age')\n",
    "ax[1].set_ylabel('Average values')\n",
    "ax[1].legend(loc='best')\n",
    "\n",
    "plt.show()"
   ]
  }
 ],
 "metadata": {
  "kernelspec": {
   "display_name": "Python 3",
   "language": "python",
   "name": "python3"
  },
  "language_info": {
   "codemirror_mode": {
    "name": "ipython",
    "version": 3
   },
   "file_extension": ".py",
   "mimetype": "text/x-python",
   "name": "python",
   "nbconvert_exporter": "python",
   "pygments_lexer": "ipython3",
   "version": "3.8.5"
  }
 },
 "nbformat": 4,
 "nbformat_minor": 4
}
