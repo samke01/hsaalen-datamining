{
 "cells": [
  {
   "cell_type": "code",
   "execution_count": null,
   "metadata": {},
   "outputs": [],
   "source": [
    "import os\n",
    "import statistics\n",
    "import scipy as sp\n",
    "import import_ipynb\n",
    "import math\n",
    "import pandas as pd\n",
    "#pd.get_option(\"display.max_rows\")\n",
    "#pd.reset_option(\"display.max_rows\")\n",
    "import numpy as np\n",
    "import matplotlib as mpl\n",
    "import matplotlib.pyplot as plt\n",
    "import matplotlib.ticker as tick\n",
    "import seaborn as sns\n",
    "import statsmodels.api as sm\n",
    "import statsmodels.formula.api as smf\n",
    "from statsmodels.stats.outliers_influence import variance_inflation_factor\n",
    "from statsmodels.tools.tools import add_constant\n",
    "from statsmodels.regression.linear_model import OLS\n",
    "from statsmodels.stats.outliers_influence import OLSInfluence\n",
    "from sklearn.model_selection import train_test_split\n",
    "from sklearn.model_selection import cross_val_score\n",
    "from sklearn.base import BaseEstimator, RegressorMixin"
   ]
  },
  {
   "cell_type": "code",
   "execution_count": null,
   "metadata": {},
   "outputs": [],
   "source": [
    "os.chdir(' ') #set proper directory depending where you put that project\n",
    "import Licencjat_DataViz as DataViz"
   ]
  },
  {
   "cell_type": "code",
   "execution_count": null,
   "metadata": {},
   "outputs": [],
   "source": [
    "os.chdir(' ') #set proper directory depending where you put that project\n",
    "import Licencjat_Modelling_Goalkeepers as GK"
   ]
  },
  {
   "cell_type": "code",
   "execution_count": null,
   "metadata": {},
   "outputs": [],
   "source": [
    "os.chdir(' ') #set proper directory depending where you put that project\n",
    "import Licencjat_Modelling_Defenders as DEF"
   ]
  },
  {
   "cell_type": "code",
   "execution_count": null,
   "metadata": {},
   "outputs": [],
   "source": [
    "os.chdir(' ') #set proper directory depending where you put that project\n",
    "import Licencjat_Modelling_Midfielders as MID"
   ]
  },
  {
   "cell_type": "code",
   "execution_count": null,
   "metadata": {},
   "outputs": [],
   "source": [
    "os.chdir(' ') #set proper directory depending where you put that project\n",
    "import Licencjat_Modelling_Forwards as FWD"
   ]
  },
  {
   "cell_type": "code",
   "execution_count": null,
   "metadata": {},
   "outputs": [],
   "source": [
    "#correlations\n",
    "#correlations=pd.concat([GK.show,DEF.show,MID.show,FWD.show],axis=1)\n",
    "#further editions in Excel\n",
    "#!pip install openpyxl\n",
    "#correlations.columns=['Goalkeepers','Defenders','Midfielders','Forwards']\n",
    "#correlations.to_excel(r' ') #set proper path\n",
    "#os.system('start EXCEL.EXE correlations.xlsx')"
   ]
  },
  {
   "cell_type": "code",
   "execution_count": null,
   "metadata": {},
   "outputs": [],
   "source": [
    "#data wrangling\n",
    "data            = pd.DataFrame.append(GK.dataGK,[DEF.dataDEF,MID.dataMID,FWD.dataFWD])\n",
    "dataseason1920  = data[data['Season_201920#']==1]\n",
    "dataseason1819  = data[data['Season_201819#']==1]\n",
    "dataseason1718  = data[data['Season_201718#']==1]\n",
    "\n",
    "#applying weights and predictions\n",
    "w1920 = 1\n",
    "w1819 = 0.7846\n",
    "w1718 = 0.6648\n",
    "\n",
    "dataseason1920['weights']  = w1920\n",
    "dataseason1920['predsOLS'] = w1920*dataseason1920['predsOLS']\n",
    "dataseason1819['weights']  = w1819\n",
    "dataseason1819['predsOLS'] = w1819*dataseason1819['predsOLS']\n",
    "dataseason1718['weights']  = w1718\n",
    "dataseason1718['predsOLS'] = w1718*dataseason1718['predsOLS']\n",
    "datafinal=pd.DataFrame.append(dataseason1920,[dataseason1819,dataseason1718])"
   ]
  },
  {
   "cell_type": "code",
   "execution_count": null,
   "metadata": {},
   "outputs": [],
   "source": [
    "#to excel for potential editions by hand\n",
    "#datafinal.to_excel(r'C:\\Users\\rafal\\Desktop\\dane do licencjatu\\data\\predictions.xlsx')\n",
    "#os.system('start EXCEL.EXE predictions.xlsx')"
   ]
  },
  {
   "cell_type": "code",
   "execution_count": null,
   "metadata": {},
   "outputs": [],
   "source": [
    "#grouping by all intercepts\n",
    "dfGK  = pd.DataFrame(pd.read_html(GK.finalGK1.summary().tables[1].as_html(),header=0,index_col=0)[0]['coef'])\n",
    "dfDEF = pd.DataFrame(pd.read_html(DEF.finalDEF1.summary().tables[1].as_html(),header=0,index_col=0)[0]['coef'])\n",
    "dfMID = pd.DataFrame(pd.read_html(MID.finalMID1.summary().tables[1].as_html(),header=0,index_col=0)[0]['coef'])\n",
    "dfFWD = pd.DataFrame(pd.read_html(FWD.finalFWD1.summary().tables[1].as_html(),header=0,index_col=0)[0]['coef'])\n",
    "df    = pd.concat([dfGK,dfDEF,dfMID,dfFWD],axis=1)\n",
    "\n",
    "df.columns = ['Goalkeepers','Defenders','Midfielders','Forwards']\n",
    "df"
   ]
  },
  {
   "cell_type": "code",
   "execution_count": null,
   "metadata": {},
   "outputs": [],
   "source": [
    "#data viz\n",
    "\n",
    "#datafinal['predsOLS']=np.exp(datafinal['predsOLS']) \n",
    "def millions(x, pos):\n",
    "    'The two args are the value and tick position'\n",
    "    return '%1.1fM' % (x * 1e-6)\n",
    "formatter = mpl.ticker.FuncFormatter(millions)\n",
    "\n",
    "#check=smf.ols('ln(value)~isPremierLeague+isLigue1+isSerieA+isBundesliga',data=DEF.dataDEF).fit()\n",
    "#check.summary()\n",
    "fig, ax = plt.subplots(1, 2, figsize=(16, 4))\n",
    "\n",
    "ax[0].scatter(datafinal.index, datafinal['value'], label='Transfermarkt Value')\n",
    "ax[0].scatter(datafinal.index, datafinal['predsOLS'], label='RLM predictions', color='orange')\n",
    "ax[0].yaxis.set_major_formatter(formatter)\n",
    "ax[0].set_ylabel('Values')\n",
    "ax[0].axhline(0, color='k', linestyle='dashed', linewidth=1)\n",
    "ax[0].legend(loc='best')\n",
    "\n",
    "datafinal=datafinal.sort_values('value',ascending=False)   \n",
    "datafinal=datafinal.reset_index()\n",
    "\n",
    "ax[1].scatter(datafinal.index, datafinal['value']-datafinal['predsOLS'], label='RLM residuals', color='green')\n",
    "ax[1].yaxis.set_major_formatter(formatter)\n",
    "ax[1].legend(loc='best')\n",
    "ax[1].axhline(0, color='k', linestyle='dashed', linewidth=1)"
   ]
  },
  {
   "cell_type": "code",
   "execution_count": null,
   "metadata": {},
   "outputs": [],
   "source": [
    "#data viz\n",
    "GK.dataGK   = GK.dataGK.sort_values('value',ascending=False)\n",
    "DEF.dataDEF = DEF.dataDEF.sort_values('value',ascending=False)\n",
    "MID.dataMID = MID.dataMID.sort_values('value',ascending=False)\n",
    "\n",
    "dataFWD     = datafinal[datafinal['position2'].str[:7]=='Forward']\n",
    "dataFWD2    = datafinal[datafinal['position2'].str[:6]=='attack']\n",
    "dataFWD     = pd.DataFrame.append(dataFWD,dataFWD2)\n",
    "FWD.dataFWD = FWD.dataFWD.sort_values('value',ascending=False)\n",
    "\n",
    "GK.dataGK   = GK.dataGK[GK.dataGK['Season_201920#']==1].reset_index()\n",
    "DEF.dataDEF = DEF.dataDEF[DEF.dataDEF['Season_201920#']==1].reset_index()\n",
    "MID.dataMID = MID.dataMID[MID.dataMID['Season_201920#']==1].reset_index()\n",
    "FWD.dataFWD = FWD.dataFWD[FWD.dataFWD['Season_201920#']==1].reset_index()\n",
    "\n",
    "fig, ax = plt.subplots(2, 2, figsize=(16, 12))\n",
    "\n",
    "ax[0,0].scatter(GK.dataGK.index, GK.dataGK['value']-GK.dataGK['predsOLS'], label='RLM residuals', color='orange')\n",
    "ax[0,0].yaxis.set_major_formatter(formatter)\n",
    "ax[0,0].set_ylabel('Values - Goalkeepers')\n",
    "ax[0,0].legend(loc='best')\n",
    "ax[0,0].axhline(0, color='k', linestyle='dashed', linewidth=1)\n",
    "\n",
    "ax[0,1].scatter(DEF.dataDEF.index, DEF.dataDEF['value']-DEF.dataDEF['predsOLS'], label='RLM residuals', color='blue')\n",
    "ax[0,1].yaxis.set_major_formatter(formatter)\n",
    "ax[0,1].set_ylabel('Values - Defenders')\n",
    "ax[0,1].legend(loc='best')\n",
    "ax[0,1].axhline(0, color='k', linestyle='dashed', linewidth=1)\n",
    "\n",
    "ax[1,0].scatter(MID.dataMID.index, MID.dataMID['value']-MID.dataMID['predsOLS'], label='RLM residuals', color='green')\n",
    "ax[1,0].yaxis.set_major_formatter(formatter)\n",
    "ax[1,0].legend(loc='best')\n",
    "ax[1,0].set_ylabel('Values - Midfielders')\n",
    "ax[1,0].axhline(0, color='k', linestyle='dashed', linewidth=1)\n",
    "\n",
    "ax[1,1].scatter(dataFWD.index, dataFWD['value']-dataFWD['predsOLS'], label='RLM residuals', color='magenta')\n",
    "ax[1,1].yaxis.set_major_formatter(formatter)\n",
    "ax[1,1].legend(loc='best')\n",
    "ax[1,1].set_ylabel('Values - Forwards')\n",
    "ax[1,1].axhline(0, color='k', linestyle='dashed', linewidth=1)"
   ]
  },
  {
   "cell_type": "code",
   "execution_count": null,
   "metadata": {},
   "outputs": [],
   "source": [
    "#calculating MAE\n",
    "GK.dataGK['MAE']   = abs(GK.dataGK['predsOLS']-GK.dataGK['value'])\n",
    "DEF.dataDEF['MAE'] = abs(DEF.dataDEF['predsOLS']-DEF.dataDEF['value'])\n",
    "MID.dataMID['MAE'] = abs(MID.dataMID['predsOLS']-MID.dataMID['value'])\n",
    "FWD.dataFWD['MAE'] = abs(FWD.dataFWD['predsOLS']-FWD.dataFWD['value'])\n",
    "\n",
    "leagueGK           = GK.dataGK.groupby('isPremierLeague').mean()['MAE']\n",
    "leagueDEF          = DEF.dataDEF.groupby('isPremierLeague').mean()['MAE']\n",
    "leagueMID          = MID.dataMID.groupby('isPremierLeague').mean()['MAE']\n",
    "leagueFWD          = FWD.dataFWD.groupby('isPremierLeague').mean()['MAE']\n",
    "\n",
    "league             = leagueGK.append([leagueDEF,leagueMID,leagueFWD])\n",
    "league"
   ]
  },
  {
   "cell_type": "code",
   "execution_count": null,
   "metadata": {},
   "outputs": [],
   "source": [
    "#calculating errors for benchmark comparison, requires separate transfer file to be scrapped\n",
    "# os.chdir(' ') #set proper directory depending where you put that project\n",
    "# transfers=pd.read_csv('transfers.csv',engine='python',sep=';')\n",
    "# datafinal['player']=datafinal['player'].apply(lambda x: ''.join([\"\" if ord(i) < 32 or ord(i) > 126 else i for i in x]))\n",
    "# transfers['ď»żPlayer']=transfers['ď»żPlayer'].apply(lambda x: ''.join([\"\" if ord(i) < 32 or ord(i) > 126 else i for i in x]))\n",
    "# #transfery=datafinal.merge(transfers,left_on='player',right_on='ď»żPlayer')\n",
    "# transfery=datafinal[datafinal['Season_201920#']==1].merge(transfers,left_on='player',right_on='ď»żPlayer')\n",
    "# transfery=transfery.groupby('player').mean()\n",
    "# transfery['transfermarkt error']=abs(transfery['transfer fee']-transfery['value'])\n",
    "# transfery['RLM error']=abs(transfery['transfer fee']-transfery['predsOLS'])\n",
    "# pd.DataFrame(transfery[['transfermarkt error','RLM error']])\n",
    "# transfery=transfery[transfery['Season_201920#']>0]\n",
    "# print(np.mean(transfery['transfermarkt error']),np.mean(transfery['RLM error']))\n",
    "# pd.DataFrame(transfery[['transfermarkt error','RLM error']])"
   ]
  },
  {
   "cell_type": "code",
   "execution_count": null,
   "metadata": {},
   "outputs": [],
   "source": [
    "# #final data viz\n",
    "\n",
    "# fig, ax = plt.subplots(1, 2, figsize=(16, 4))\n",
    "# fig.suptitle('Basic approach', fontsize=20)\n",
    "\n",
    "# transfery=transfery.reset_index()\n",
    "\n",
    "# ax[0].scatter(transfery.index, transfery['transfer fee'], label='Transfer fee',color='green')\n",
    "# ax[0].scatter(transfery.index, transfery['value'], label='Transfermarkt value',color='blue')\n",
    "# ax[0].scatter(transfery.index, transfery['predsOLS'], label='RLM predictions', color='orange')\n",
    "# ax[0].set_ylabel('Values')\n",
    "# ax[0].set_xlabel('Transfer index')\n",
    "# ax[0].yaxis.set_major_formatter(formatter)\n",
    "# ax[0].axhline(0, color='k', linestyle='dashed', linewidth=1)\n",
    "# ax[0].legend(loc='best')\n",
    "\n",
    "# ax[1].scatter(transfery.index, transfery['transfermarkt error'], label='transfermarkt error', color='blue')\n",
    "# ax[1].scatter(transfery.index, transfery['RLM error'], label='RLM error',color='orange')\n",
    "# ax[1].legend(loc='best')\n",
    "# ax[1].yaxis.set_major_formatter(formatter)\n",
    "# ax[1].set_xlabel('Transfer index')\n",
    "# ax[1].axhline(0, color='k', linestyle='dashed', linewidth=1)\n"
   ]
  }
 ],
 "metadata": {
  "kernelspec": {
   "display_name": "Python 3",
   "language": "python",
   "name": "python3"
  },
  "language_info": {
   "codemirror_mode": {
    "name": "ipython",
    "version": 3
   },
   "file_extension": ".py",
   "mimetype": "text/x-python",
   "name": "python",
   "nbconvert_exporter": "python",
   "pygments_lexer": "ipython3",
   "version": "3.8.5"
  }
 },
 "nbformat": 4,
 "nbformat_minor": 4
}
